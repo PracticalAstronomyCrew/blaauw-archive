{
 "cells": [
  {
   "cell_type": "markdown",
   "metadata": {
    "slideshow": {
     "slide_type": "slide"
    }
   },
   "source": [
    "# TAP Queries\n",
    "An example which shows how to make queries to the TAP service of `vo.astro.rug.nl`."
   ]
  },
  {
   "cell_type": "code",
   "execution_count": 1,
   "metadata": {
    "slideshow": {
     "slide_type": "fragment"
    }
   },
   "outputs": [],
   "source": [
    "from astroquery.utils.tap.core import Tap\n",
    "\n",
    "from astropy.coordinates import SkyCoord\n",
    "from astropy.table import Table\n",
    "from astropy.time import Time\n",
    "\n",
    "from matplotlib.pyplot import figure, show\n",
    "import numpy as np"
   ]
  },
  {
   "cell_type": "markdown",
   "metadata": {
    "slideshow": {
     "slide_type": "slide"
    }
   },
   "source": [
    "## Connect to the service"
   ]
  },
  {
   "cell_type": "code",
   "execution_count": 3,
   "metadata": {
    "slideshow": {
     "slide_type": "fragment"
    }
   },
   "outputs": [
    {
     "name": "stdout",
     "output_type": "stream",
     "text": [
      "Created TAP+ (v1.2.1) - Connection:\n",
      "\tHost: vo.astro.rug.nl\n",
      "\tUse HTTPS: True\n",
      "\tPort: 443\n",
      "\tSSL Port: 443\n"
     ]
    }
   ],
   "source": [
    "vo_url = \"https://vo.astro.rug.nl/tap\"\n",
    "vo = Tap(url=vo_url, verbose=True)"
   ]
  },
  {
   "cell_type": "markdown",
   "metadata": {
    "slideshow": {
     "slide_type": "slide"
    }
   },
   "source": [
    "## Query the service\n",
    "To query the service and immediately get the result, use the `launch_job` method and give it a query (ADQL). An example query is given below.\n",
    "\n",
    "The result of the query is a job, from which the result can be retrieved (as an astropy Table) using the `get_results()` method."
   ]
  },
  {
   "cell_type": "code",
   "execution_count": 3,
   "metadata": {
    "slideshow": {
     "slide_type": "fragment"
    }
   },
   "outputs": [
    {
     "name": "stdout",
     "output_type": "stream",
     "text": [
      "<Table length=10>\n",
      "  name    dtype  unit                                                       description                                                      \n",
      "-------- ------- ---- -----------------------------------------------------------------------------------------------------------------------\n",
      "filename  object                                                        Absolute path to the corresponding fits file on the Vega data server.\n",
      "      ra float64  deg                         Right Ascention (degrees) coordinate of where the telescope is pointed. Derived from 'OBJCTRA'.\n",
      "     dec float64  deg                            Declination (degrees) coordinate of where the telescope is pointed. Derived from 'OBJCTDEC'.\n",
      "date_obs  object      Datetime string of the moment the observation was taken (in UTC). See 'obs_jd' column for the same time in Julian Days.\n"
     ]
    }
   ],
   "source": [
    "query = \"\"\"\n",
    "SELECT TOP 10 filename, ra, dec, date_obs\n",
    "FROM observations.raw\n",
    "WHERE ra IS NOT NULL\n",
    "ORDER BY date_obs\n",
    "\"\"\"\n",
    "\n",
    "job = vo.launch_job(query)\n",
    "table = job.get_results()\n",
    "\n",
    "table.info()  # some simple information on the resulting table"
   ]
  },
  {
   "cell_type": "markdown",
   "metadata": {
    "slideshow": {
     "slide_type": "skip"
    }
   },
   "source": [
    "To see what is actually in the table, provided you are in a notebook, just state the table. The first row gives the column names, the second units and the third the python types. The other rows are the resulting data."
   ]
  },
  {
   "cell_type": "code",
   "execution_count": 4,
   "metadata": {
    "slideshow": {
     "slide_type": "subslide"
    }
   },
   "outputs": [
    {
     "data": {
      "text/html": [
       "<i>Table length=10</i>\n",
       "<table id=\"table139953221291408\" class=\"table-striped table-bordered table-condensed\">\n",
       "<thead><tr><th>filename</th><th>ra</th><th>dec</th><th>date_obs</th></tr></thead>\n",
       "<thead><tr><th></th><th>deg</th><th>deg</th><th></th></tr></thead>\n",
       "<thead><tr><th>object</th><th>float64</th><th>float64</th><th>object</th></tr></thead>\n",
       "<tr><td>/net/dataserver3/data/users/noelstorr/blaauwastrom/090309/astrom_090309_Li_021.fits</td><td>218.105519551</td><td>26.7344644832</td><td>2009-03-10T00:43:14.203</td></tr>\n",
       "<tr><td>/net/vega/data/users/observatory/images/090309/STL-6303E/i/090309_Li_021.fits</td><td>218.09814999999998</td><td>26.673555555555556</td><td>2009-03-10T00:43:14.203</td></tr>\n",
       "<tr><td>/net/dataserver3/data/users/noelstorr/blaauwastrom/090317/astrom_090317_Li_001.fits</td><td>113.850723895</td><td>65.6476491812</td><td>2009-03-17T19:42:34.906</td></tr>\n",
       "<tr><td>/net/dataserver3/data/users/noelstorr/blaauwastrom/090317/astrom_090317_Li_002.fits</td><td>113.850857426</td><td>65.6476134898</td><td>2009-03-17T19:46:17.234</td></tr>\n",
       "<tr><td>/net/dataserver3/data/users/noelstorr/blaauwastrom/090317/astrom_090317_Li_003.fits</td><td>172.282323816</td><td>28.9624338909</td><td>2009-03-17T20:00:40.234</td></tr>\n",
       "<tr><td>/net/dataserver3/data/users/noelstorr/blaauwastrom/090317/astrom_090317_Li_004.fits</td><td>172.282282288</td><td>28.9624505782</td><td>2009-03-17T20:02:01.656</td></tr>\n",
       "<tr><td>/net/dataserver3/data/users/noelstorr/blaauwastrom/090317/astrom_090317_Li_005.fits</td><td>133.248155591</td><td>-0.720509034562</td><td>2009-03-17T20:08:29.046</td></tr>\n",
       "<tr><td>/net/dataserver3/data/users/noelstorr/blaauwastrom/090317/astrom_090317_Li_006.fits</td><td>133.248187443</td><td>-0.720442761718</td><td>2009-03-17T20:09:40.921</td></tr>\n",
       "<tr><td>/net/dataserver3/data/users/noelstorr/blaauwastrom/090317/astrom_090317_Li_007.fits</td><td>120.602103898</td><td>15.6568305875</td><td>2009-03-17T21:05:23.234</td></tr>\n",
       "<tr><td>/net/dataserver3/data/users/noelstorr/blaauwastrom/090317/astrom_090317_Li_008.fits</td><td>120.735553573</td><td>15.6765523738</td><td>2009-03-17T21:08:36.375</td></tr>\n",
       "</table>"
      ],
      "text/plain": [
       "<Table length=10>\n",
       "                                      filename                                      ...\n",
       "                                                                                    ...\n",
       "                                       object                                       ...\n",
       "----------------------------------------------------------------------------------- ...\n",
       "/net/dataserver3/data/users/noelstorr/blaauwastrom/090309/astrom_090309_Li_021.fits ...\n",
       "      /net/vega/data/users/observatory/images/090309/STL-6303E/i/090309_Li_021.fits ...\n",
       "/net/dataserver3/data/users/noelstorr/blaauwastrom/090317/astrom_090317_Li_001.fits ...\n",
       "/net/dataserver3/data/users/noelstorr/blaauwastrom/090317/astrom_090317_Li_002.fits ...\n",
       "/net/dataserver3/data/users/noelstorr/blaauwastrom/090317/astrom_090317_Li_003.fits ...\n",
       "/net/dataserver3/data/users/noelstorr/blaauwastrom/090317/astrom_090317_Li_004.fits ...\n",
       "/net/dataserver3/data/users/noelstorr/blaauwastrom/090317/astrom_090317_Li_005.fits ...\n",
       "/net/dataserver3/data/users/noelstorr/blaauwastrom/090317/astrom_090317_Li_006.fits ...\n",
       "/net/dataserver3/data/users/noelstorr/blaauwastrom/090317/astrom_090317_Li_007.fits ...\n",
       "/net/dataserver3/data/users/noelstorr/blaauwastrom/090317/astrom_090317_Li_008.fits ..."
      ]
     },
     "execution_count": 4,
     "metadata": {},
     "output_type": "execute_result"
    }
   ],
   "source": [
    "table"
   ]
  },
  {
   "cell_type": "markdown",
   "metadata": {
    "slideshow": {
     "slide_type": "skip"
    }
   },
   "source": [
    "As the result is, conveniently, an astropy Table we can easily perform some operations on it. For example, get a list of coordinates using the SkyCoord class. You can explicitly give the columns to the skycoord object alongside a unit (degrees in this case), or just guess using the `guess_from_table` method.\n",
    "As both give the same result, the latter is more convenient."
   ]
  },
  {
   "cell_type": "code",
   "execution_count": 5,
   "metadata": {
    "slideshow": {
     "slide_type": "subslide"
    }
   },
   "outputs": [
    {
     "data": {
      "text/plain": [
       "array(['Boötes', 'Boötes', 'Camelopardalis', 'Camelopardalis',\n",
       "       'Ursa Major', 'Ursa Major', 'Hydra', 'Hydra', 'Cancer', 'Cancer'],\n",
       "      dtype='<U19')"
      ]
     },
     "execution_count": 5,
     "metadata": {},
     "output_type": "execute_result"
    }
   ],
   "source": [
    "from matplotlib.pyplot import figure, show\n",
    "import numpy as np\n",
    "\n",
    "c = SkyCoord(table['ra'], table['dec'], unit='deg')  # explicit (give unit & columns)\n",
    "c = SkyCoord.guess_from_table(table)                 # guess\n",
    "\n",
    "c.get_constellation() # use any of the SkyCoord methods !"
   ]
  },
  {
   "cell_type": "markdown",
   "metadata": {
    "slideshow": {
     "slide_type": "slide"
    }
   },
   "source": [
    "## Example: Get a Histogram of Observations per day Starting from 2019"
   ]
  },
  {
   "cell_type": "code",
   "execution_count": 6,
   "metadata": {
    "slideshow": {
     "slide_type": "fragment"
    }
   },
   "outputs": [],
   "source": [
    "# Get the JD version of Jan 1st of 2019\n",
    "since_date = Time('2019-01-01T12:00:00.000').jd\n",
    "\n",
    "# Prepare query\n",
    "query = \"\"\"\n",
    "SELECT TOP 20000 FLOOR(obs_jd) as obs_jd\n",
    "FROM observations.raw\n",
    "WHERE imagetyp = 'Light Frame' AND obs_jd >= {}\n",
    "\"\"\".format(since_date)\n",
    "\n",
    "# Launch the job and get the resulting table\n",
    "job = vo.launch_job(query)\n",
    "table = job.get_results()"
   ]
  },
  {
   "cell_type": "code",
   "execution_count": 7,
   "metadata": {
    "slideshow": {
     "slide_type": "fragment"
    }
   },
   "outputs": [],
   "source": [
    "days = table['obs_jd'].astype(int) - int(since_date)  # offset by the starting date for nicer display"
   ]
  },
  {
   "cell_type": "code",
   "execution_count": 8,
   "metadata": {
    "slideshow": {
     "slide_type": "subslide"
    }
   },
   "outputs": [
    {
     "data": {
      "image/png": "[encoded data removed]",
      "text/plain": [
       "<Figure size 1080x288 with 1 Axes>"
      ]
     },
     "metadata": {
      "needs_background": "light"
     },
     "output_type": "display_data"
    }
   ],
   "source": [
    "# Prepare the figure\n",
    "fig = figure(figsize=(15, 4))\n",
    "ax = fig.add_subplot(1, 1, 1)\n",
    "\n",
    "# Plot the histogram\n",
    "n, bins, patches = ax.hist(days, bins=days.max() - days.min())\n",
    "\n",
    "# Add the 2020 line\n",
    "t = Time('2020-01-01T12:00:00.000').jd - since_date\n",
    "ax.axvline(t, c='k')\n",
    "ax.text(t+10, ax.get_ylim()[-1] - ax.get_ylim()[-1]*.1, \"Start of 2020\")\n",
    "\n",
    "# Add some labels and a title\n",
    "ax.set_ylabel('Number of observations')\n",
    "ax.set_xlabel('Days since the offset day (default 2019-01-01)')\n",
    "ax.set_title(\"Number of observations (light frames) per day\")\n",
    "show()"
   ]
  },
  {
   "cell_type": "markdown",
   "metadata": {
    "slideshow": {
     "slide_type": "slide"
    }
   },
   "source": [
    "## Example: Plot the Coordinates of all Observations"
   ]
  },
  {
   "cell_type": "code",
   "execution_count": 9,
   "metadata": {
    "slideshow": {
     "slide_type": "fragment"
    }
   },
   "outputs": [],
   "source": [
    "query = \"\"\"\n",
    "SELECT TOP 20000 ra, dec\n",
    "FROM observations.raw\n",
    "WHERE ra IS NOT NULL \n",
    "  AND dec IS NOT NULL\n",
    "  AND imagetyp = 'Light Frame'\n",
    "  AND filename NOT LIKE '%/g/%'\n",
    "\"\"\"\n",
    "\n",
    "job = vo.launch_job(query)"
   ]
  },
  {
   "cell_type": "code",
   "execution_count": 10,
   "metadata": {
    "slideshow": {
     "slide_type": "fragment"
    }
   },
   "outputs": [
    {
     "name": "stdout",
     "output_type": "stream",
     "text": [
      "<Table length=9058>\n",
      "name  dtype  unit                                           description                                          \n",
      "---- ------- ---- -----------------------------------------------------------------------------------------------\n",
      "  ra float64  deg Right Ascention (degrees) coordinate of where the telescope is pointed. Derived from 'OBJCTRA'.\n",
      " dec float64  deg    Declination (degrees) coordinate of where the telescope is pointed. Derived from 'OBJCTDEC'.\n"
     ]
    }
   ],
   "source": [
    "table = job.get_results()\n",
    "table.info()"
   ]
  },
  {
   "cell_type": "code",
   "execution_count": 11,
   "metadata": {
    "slideshow": {
     "slide_type": "subslide"
    }
   },
   "outputs": [
    {
     "data": {
      "image/png": "[encoded data removed]",
      "text/plain": [
       "<Figure size 432x288 with 1 Axes>"
      ]
     },
     "metadata": {
      "needs_background": "light"
     },
     "output_type": "display_data"
    }
   ],
   "source": [
    "fig = figure()\n",
    "ax = fig.add_subplot(1, 1, 1)\n",
    "\n",
    "ra = table['ra']\n",
    "dec = table['dec']\n",
    "ax.scatter(ra / (360/24), dec, marker='.')\n",
    "\n",
    "ax.set_ylim(-90, 90)\n",
    "ax.set_xlim(0, 24)\n",
    "\n",
    "ax.set_xlabel('Right Ascention (hours)')\n",
    "ax.set_ylabel('Declanation (degrees)')\n",
    "\n",
    "show()"
   ]
  },
  {
   "cell_type": "markdown",
   "metadata": {
    "slideshow": {
     "slide_type": "skip"
    }
   },
   "source": [
    "We also create a second plot which perhaps is less scientific, but gives a better view on the density of the observations. The rounded effect is done by interpolating (otherwise there would not be a lot visible)."
   ]
  },
  {
   "cell_type": "code",
   "execution_count": 12,
   "metadata": {
    "slideshow": {
     "slide_type": "subslide"
    }
   },
   "outputs": [],
   "source": [
    "hist2d, xedge, yedge = np.histogram2d(ra, dec, bins=[20, 10], range=[[0, 360], [-90, 90]])\n",
    "hist2d += 1\n",
    "hist2d = np.log(hist2d)"
   ]
  },
  {
   "cell_type": "code",
   "execution_count": 13,
   "metadata": {
    "slideshow": {
     "slide_type": "fragment"
    }
   },
   "outputs": [
    {
     "data": {
      "image/png": "[encoded data removed]",
      "text/plain": [
       "<Figure size 432x288 with 2 Axes>"
      ]
     },
     "metadata": {
      "needs_background": "light"
     },
     "output_type": "display_data"
    }
   ],
   "source": [
    "fig = figure()\n",
    "ax = fig.add_subplot(1, 1, 1)\n",
    "\n",
    "im = ax.imshow(hist2d.T, origin='lower', interpolation='spline16', extent=[0, 360, -90, 90])\n",
    "\n",
    "ax.set_xlabel('Right Ascention (degrees)')\n",
    "ax.set_ylabel('Declanation (degrees)')\n",
    "\n",
    "fig.colorbar(im, ax=ax, fraction=0.024, pad=0.04)\n",
    "show()"
   ]
  },
  {
   "cell_type": "markdown",
   "metadata": {
    "slideshow": {
     "slide_type": "slide"
    }
   },
   "source": [
    "## Example: Retrieving all Filenames Satisfying a Certain Query"
   ]
  },
  {
   "cell_type": "code",
   "execution_count": 14,
   "metadata": {
    "slideshow": {
     "slide_type": "fragment"
    }
   },
   "outputs": [],
   "source": [
    "object_name = \"Jupiter\"\n",
    "\n",
    "query = \"\"\"\n",
    "SELECT filename, object, ra, dec, date_obs\n",
    "FROM observations.raw\n",
    "WHERE object = '{}'\n",
    "ORDER BY date_obs\n",
    "\"\"\".format(object_name)\n",
    "\n",
    "job = vo.launch_job(query)\n",
    "table = job.get_results()"
   ]
  },
  {
   "cell_type": "code",
   "execution_count": 15,
   "metadata": {
    "slideshow": {
     "slide_type": "subslide"
    }
   },
   "outputs": [
    {
     "name": "stdout",
     "output_type": "stream",
     "text": [
      "/net/vega/data/users/observatory/images/080925/STL-6303E/i/Jupiter2.fits\n",
      "/net/vega/data/users/observatory/images/080925/STL-6303E/i/Jupiter3.fits\n",
      "/net/vega/data/users/observatory/images/080926/STL-6303E/i/Jupiter0.fits\n",
      "/net/vega/data/users/observatory/images/080927/STL-6303E/i/JupiterR0,2s1.fits\n",
      "/net/vega/data/users/observatory/images/080927/STL-6303E/i/JupiterV0,2s2.fits\n",
      "/net/vega/data/users/observatory/images/080927/STL-6303E/i/JupiterV10s3.fits\n",
      "...\n",
      "/net/vega/data/users/observatory/images/111023/STL-6303E/i/111023_Li_.00000038.Jupiter.FIT\n",
      "/net/vega/data/users/observatory/images/111023/STL-6303E/i/111023_Li_.00000039.Jupiter.FIT\n",
      "/net/vega/data/users/observatory/images/111023/STL-6303E/i/111023_Li_.00000040.Jupiter.FIT\n",
      "/net/vega/data/users/observatory/images/111023/STL-6303E/i/111023_Li_.00000041.Jupiter.FIT\n",
      "/net/vega/data/users/observatory/images/111023/STL-6303E/i/111023_Li_.00000042.Jupiter.FIT\n",
      "/net/vega/data/users/observatory/images/111023/STL-6303E/i/111023_Li_.00000043.Jupiter.FIT\n"
     ]
    }
   ],
   "source": [
    "# Note that we need to use .decode() !\n",
    "filenames = [fn.decode() for fn in table['filename']] \n",
    "\n",
    "# Print part of the resulting list on separate lines\n",
    "print('\\n'.join(filenames[:6]))\n",
    "print('...')\n",
    "print('\\n'.join(filenames[-6:]))"
   ]
  },
  {
   "cell_type": "markdown",
   "metadata": {
    "slideshow": {
     "slide_type": "slide"
    }
   },
   "source": [
    "## Example: Selecting Observations Closest to a Given Date"
   ]
  },
  {
   "cell_type": "code",
   "execution_count": 16,
   "metadata": {
    "slideshow": {
     "slide_type": "fragment"
    }
   },
   "outputs": [],
   "source": [
    "# night of the 17th of April 2020\n",
    "ref_date = Time(\"2020-04-18T01:25:53.895\").jd  \n",
    "\n",
    "query = \"\"\"\n",
    "SELECT TOP 100 filename, date_obs, ABS(obs_jd - {}) AS difference\n",
    "FROM observations.raw\n",
    "ORDER BY difference\n",
    "\"\"\".format(ref_date)\n",
    "\n",
    "job = vo.launch_job(query)\n",
    "table = job.get_results()"
   ]
  },
  {
   "cell_type": "markdown",
   "metadata": {
    "slideshow": {
     "slide_type": "subslide"
    }
   },
   "source": [
    "Now more specific (an example from my own Observational Astronomy project).\n",
    "\n",
    "We had the case where we needed 3x3 binned Flat Field images, but only 1x1 binned were taken on that night. So, we wanted to find the next best thing, which are the most recent 3x3 flats relative to our observation night.\n",
    "\n",
    "In addition, we solve the issue of the absolute difference, which can lead to a mix of results from before and after the date."
   ]
  },
  {
   "cell_type": "code",
   "execution_count": 17,
   "metadata": {
    "slideshow": {
     "slide_type": "fragment"
    }
   },
   "outputs": [],
   "source": [
    "query = \"\"\"\n",
    "SELECT TOP 10 filename, date_obs, filter,\n",
    "              ABS(obs_jd - {0}) AS abs_difference,\n",
    "              obs_jd - {0} AS difference\n",
    "FROM observations.raw\n",
    "WHERE imagetyp = 'Flat Field' AND xbinning = 3 AND ybinning = 3\n",
    "ORDER BY abs_difference\n",
    "\"\"\".format(ref_date)\n",
    "\n",
    "job = vo.launch_job(query)\n",
    "table = job.get_results()"
   ]
  },
  {
   "cell_type": "code",
   "execution_count": 18,
   "metadata": {
    "slideshow": {
     "slide_type": "subslide"
    }
   },
   "outputs": [
    {
     "name": "stdout",
     "output_type": "stream",
     "text": [
      "Taken before date:\n",
      "filename\n",
      "--------\n",
      "\n",
      "\n",
      "Taken after date:\n",
      "                                                   filename                                                   \n",
      "--------------------------------------------------------------------------------------------------------------\n",
      "/net/vega/data/users/observatory/images/200418/STL-6303E/i/200418_Li_.00000030.13h13m22.7s_27d58m22sN.FLAT.FIT\n",
      "/net/vega/data/users/observatory/images/200418/STL-6303E/i/200418_Li_.00000031.13h13m29.8s_27d58m47sN.FLAT.FIT\n",
      "/net/vega/data/users/observatory/images/200418/STL-6303E/i/200418_Li_.00000032.13h13m36.8s_27d59m13sN.FLAT.FIT\n",
      "/net/vega/data/users/observatory/images/200418/STL-6303E/i/200418_Li_.00000033.13h13m44.8s_27d59m38sN.FLAT.FIT\n",
      "/net/vega/data/users/observatory/images/200418/STL-6303E/i/200418_Li_.00000034.13h13m50.8s_28d00m04sN.FLAT.FIT\n",
      "/net/vega/data/users/observatory/images/200418/STL-6303E/i/200418_Li_.00000035.13h13m59.8s_28d00m30sN.FLAT.FIT\n",
      "/net/vega/data/users/observatory/images/200418/STL-6303E/i/200418_Li_.00000036.13h14m05.8s_28d00m56sN.FLAT.FIT\n",
      "/net/vega/data/users/observatory/images/200418/STL-6303E/i/200418_Li_.00000037.13h14m11.8s_28d01m22sN.FLAT.FIT\n",
      "/net/vega/data/users/observatory/images/200418/STL-6303E/i/200418_Li_.00000038.13h14m19.8s_28d01m48sN.FLAT.FIT\n",
      "/net/vega/data/users/observatory/images/200418/STL-6303E/i/200418_Li_.00000039.13h14m26.8s_28d02m13sN.FLAT.FIT\n"
     ]
    }
   ],
   "source": [
    "selector = table['difference'] < 0\n",
    "\n",
    "print('Taken before date:')\n",
    "print(table[selector]['filename'])\n",
    "\n",
    "print()\n",
    "print()\n",
    "\n",
    "print('Taken after date:')\n",
    "print(table[~selector]['filename'])"
   ]
  },
  {
   "cell_type": "markdown",
   "metadata": {},
   "source": [
    "## Example: Using SIMBAD to Search the Database\n",
    "In this example, we will use SIMBAD to query the database by an object's name. Essentially this mimics the Cone Search service from the web interface. For this example, we will use the Messier objects which are designated with an M and then a number. This means we can use a wildcard for the number, like `M *`.\n",
    "\n",
    "This example also shows how to add a new field/column in the output of a SIMBAD query (in this case the object type `otype`)."
   ]
  },
  {
   "cell_type": "code",
   "execution_count": 22,
   "metadata": {},
   "outputs": [
    {
     "name": "stdout",
     "output_type": "stream",
     "text": [
      " MAIN_ID        RA           DEC      ...     COO_BIBCODE       OTYPE   \n",
      "             \"h:m:s\"       \"d:m:s\"    ...                               \n",
      "--------- ------------- ------------- ... ------------------- ----------\n",
      "    M   1   05 34 31.94   +22 00 52.2 ... 2011A&A...533A..10L        SNR\n",
      "    M   2   21 33 27.02   -00 49 23.7 ... 2010AJ....140.1830G       GlCl\n",
      "    M   3   13 42 11.62   +28 22 38.2 ... 2010AJ....140.1830G       GlCl\n",
      "    M   4   16 23 35.22   -26 31 32.7 ... 2010AJ....140.1830G       GlCl\n",
      "    M   5   15 18 33.22   +02 04 51.7 ... 2010AJ....140.1830G       GlCl\n",
      "NGC  6405      17 40 20      -32 15.2 ... 2009MNRAS.399.2146W       OpCl\n",
      "NGC  6475      17 53 51      -34 47.6 ... 2009MNRAS.399.2146W       OpCl\n",
      "    M   8      18 03 37      -24 23.2 ...                            HII\n",
      "    M   9   17 19 11.78   -18 30 58.5 ... 2002MNRAS.332..441F       GlCl\n",
      "    M  10   16 57 09.05   -04 06 01.1 ... 2010AJ....140.1830G       GlCl\n",
      "      ...           ...           ... ...                 ...        ...\n",
      "    M 101  14 03 12.583  +54 20 55.50 ... 2006AJ....131.1163S    GinPair\n",
      "    M 102  15 06 29.561  +55 45 47.91 ... 2006AJ....131.1163S    Seyfert\n",
      "    M 103      01 33 23      +60 39.0 ... 2009MNRAS.399.2146W       OpCl\n",
      "    M 104 12 39 59.4318 -11 37 22.995 ... 2004AJ....127.3587F      LINER\n",
      "    M 105  10 47 49.600  +12 34 53.87 ... 2006AJ....131.1163S      LINER\n",
      "    M 106  12 18 57.620  +47 18 13.39 ... 2006AJ....131.1163S  Seyfert_2\n",
      "    M 107   16 32 31.86   -13 03 13.6 ... 2010AJ....140.1830G       GlCl\n",
      "    M 108  11 11 30.967  +55 40 26.84 ... 2006AJ....131.1163S StarburstG\n",
      "    M 109  11 57 35.984  +53 22 28.27 ... 2006AJ....131.1163S   GinGroup\n",
      "    M 110 00 40 22.0544 +41 41 07.496 ... 2018yCat.1345....0G   GinGroup\n",
      "Length = 110 rows\n"
     ]
    }
   ],
   "source": [
    "from astroquery.simbad import Simbad\n",
    "from astropy import units as u\n",
    "\n",
    "customSimbad = Simbad()\n",
    "customSimbad.add_votable_fields('otype')\n",
    "# Uncomment to list all the fields/columns it can return\n",
    "#customSimbad.list_votable_fields()\n",
    "\n",
    "# Query all the mesier objects from SIMBAD\n",
    "result_table = customSimbad.query_object(\"M *\", wildcard=True)\n",
    "print(result_table)"
   ]
  },
  {
   "cell_type": "code",
   "execution_count": 26,
   "metadata": {},
   "outputs": [],
   "source": [
    "# Put the ra and dec coordinates in SkyCoord so we can convert it to degrees\n",
    "sc = SkyCoord(result_table['RA'], result_table['DEC'], unit=(u.hourangle, u.deg))\n",
    "\n",
    "query = \"\"\"\n",
    "SELECT filename FROM observations.raw\n",
    "WHERE CONTAINS(POINT('ICRS', ra, dec), CIRCLE('ICRS', {}, {}, {}))=1\n",
    "\"\"\""
   ]
  },
  {
   "cell_type": "code",
   "execution_count": 32,
   "metadata": {},
   "outputs": [
    {
     "name": "stdout",
     "output_type": "stream",
     "text": [
      "    MAIN ID     |  Obj Type  | Num Entries\n",
      "----------------+------------+------------\n",
      "M   1           | SNR        |  29\n",
      "M   3           | GlCl       |  81\n",
      "M   5           | GlCl       |   4\n",
      "M  10           | GlCl       |  14\n",
      "M  12           | GlCl       |   6\n",
      "M  13           | GlCl       | 200\n",
      "M  14           | GlCl       |   4\n",
      "M  15           | GlCl       |  46\n",
      "M  16           | OpCl       |  22\n",
      "M  27           | PN         | 135\n",
      "M  29           | OpCl       |   1\n",
      "M  30           | GlCl       |   7\n",
      "M  31           | Galaxy     |  17\n",
      "M  32           | IG         |  14\n",
      "M  33           | GinGroup   |  27\n",
      "NGC  1039       | OpCl       |   8\n",
      "M  36           | OpCl       |  10\n",
      "NGC  7092       | OpCl       |  61\n",
      "M  42           | HII        | 123\n",
      "M  43           | HII        | 123\n",
      "Cl Melotte   22 | OpCl       | 160\n",
      "M  51           | GinPair    | 108\n",
      "M  52           | OpCl       |  64\n",
      "M  53           | GlCl       |  94\n",
      "M  55           | GlCl       |   1\n",
      "M  57           | PN         |  33\n",
      "M  59           | GinGroup   |  12\n",
      "M  60           | GinPair    |  12\n",
      "M  64           | Seyfert    |  26\n",
      "M  65           | GinPair    |  13\n",
      "M  66           | GinPair    |  13\n",
      "NGC  2682       | OpCl       |   6\n",
      "M  72           | GlCl       |   1\n",
      "M  75           | GlCl       |   1\n",
      "M  81           | Seyfert_2  | 126\n",
      "M  82           | IG         | 126\n",
      "M  84           | Seyfert_2  |  43\n",
      "M  86           | GinGroup   |  59\n",
      "M  87           | BClG       | 118\n",
      "M  89           | LINER      |  12\n",
      "M  90           | Seyfert_2  |   2\n",
      "M  92           | GlCl       |  65\n",
      "M  97           | PN         |  90\n",
      "M  98           | LINER      |   4\n",
      "M  99           | HII_G      |   4\n",
      "M 100           | AGN        |   5\n",
      "M 101           | GinPair    |  12\n",
      "M 103           | OpCl       |  32\n",
      "M 104           | LINER      |  15\n",
      "M 106           | Seyfert_2  |   7\n",
      "M 108           | StarburstG |  90\n",
      "M 109           | GinGroup   |   6\n",
      "M 110           | GinGroup   |  17\n"
     ]
    }
   ],
   "source": [
    "# Loop over all the coordinates & their table entry\n",
    "print('    MAIN ID     |  Obj Type  | Num Entries')\n",
    "print('----------------+------------+------------')\n",
    "for coords, obj in zip(sc, result_table):\n",
    "    q = query.format(coords.ra.deg, coords.dec.deg, 1)  # 1 is for the circle radius in degrees\n",
    "    job = vo.launch_job(q)\n",
    "    table = job.get_results()\n",
    "    \n",
    "    if len(table) > 0:\n",
    "        print('{:15s} | {:10} | {:3d}'.format(obj['MAIN_ID'], obj['OTYPE'], len(table)))"
   ]
  },
  {
   "cell_type": "markdown",
   "metadata": {},
   "source": [
    "## Example: Incorrect Plate Scale Overview"
   ]
  },
  {
   "cell_type": "markdown",
   "metadata": {},
   "source": [
    "In this example we investigate all the plate scale values, which should all be constant for a given binning. We see that there will be some incorrect plate scales and see to which coordinates they correspond."
   ]
  },
  {
   "cell_type": "code",
   "execution_count": 19,
   "metadata": {},
   "outputs": [],
   "source": [
    "query = \"\"\"\n",
    "SELECT top 200000 plate_scale, odds, xbinning, ra, dec\n",
    "from observations.raw\n",
    "where plate_scale is not NULL\n",
    "\"\"\"\n",
    "job = vo.launch_job(query)\n",
    "table = job.get_results()"
   ]
  },
  {
   "cell_type": "code",
   "execution_count": 20,
   "metadata": {},
   "outputs": [
    {
     "name": "stdout",
     "output_type": "stream",
     "text": [
      "median | n*median_0\n",
      "-------|-----------\n",
      "0.5662 | 0.5662\n",
      "1.1325 | 1.1324\n",
      "1.6979 | 1.6985\n"
     ]
    }
   ],
   "source": [
    "# Get medians of each xbinning\n",
    "medians = [np.median(np.array(table['plate_scale'][table['xbinning']==i])) for i in range(1, 4)]\n",
    "\n",
    "# If the medians are correct, NxN binned scaled should be N*(1x1 scale)\n",
    "print('median | n*median_0')\n",
    "print('-------|-----------')\n",
    "for n, median in enumerate(medians, 1):\n",
    "    print(\"{:.4f} | {:.4f}\".format(median, n*medians[0]))"
   ]
  },
  {
   "cell_type": "code",
   "execution_count": 63,
   "metadata": {},
   "outputs": [
    {
     "data": {
      "image/png": "[encoded data removed]",
      "text/plain": [
       "<Figure size 1080x360 with 3 Axes>"
      ]
     },
     "metadata": {
      "needs_background": "light"
     },
     "output_type": "display_data"
    }
   ],
   "source": [
    "fig = figure(figsize=(15, 5))\n",
    "bins = (1000, 300, 500)\n",
    "axs = [fig.add_subplot(1, 3, i) for i in range(1, 4)]\n",
    "for ax, bin, med, n in zip(axs, bins, medians, range(1, 4)):\n",
    "    ax.hist(table['plate_scale'], bins=np.linspace(median-0.01, median+0.01, bin))\n",
    "    ax.set_title('{0}x{0} Binning'.format(n))\n",
    "    ax.set_xlabel('Plate scale: arcsec/pixel')\n",
    "    \n",
    "fig.tight_layout()    \n",
    "    \n",
    "\n",
    "show()"
   ]
  },
  {
   "cell_type": "markdown",
   "metadata": {},
   "source": [
    "Here we isolate all the datapoints which are incorrect and give some statistics about them. We also remember the ra and dec coordinated of these incorrect plate scales for later use."
   ]
  },
  {
   "cell_type": "code",
   "execution_count": 21,
   "metadata": {},
   "outputs": [
    {
     "name": "stdout",
     "output_type": "stream",
     "text": [
      "bin | err | err fraction\n",
      "----|-----|-------------\n",
      " 1  |  32 | 0.00760\n",
      " 2  |   2 | 0.00287\n",
      " 3  |  20 | 0.01189\n"
     ]
    }
   ],
   "source": [
    "print('bin | err | err fraction')\n",
    "print('----|-----|-------------')\n",
    "all_off_scales = []\n",
    "all_off_ra = []\n",
    "all_off_dec = []\n",
    "\n",
    "for i in range(1, 4):\n",
    "    arr = np.array(table['plate_scale'][table['xbinning']==i])\n",
    "    ra = np.array(table['ra'][table['xbinning']==i])\n",
    "    dec = np.array(table['dec'][table['xbinning']==i])\n",
    "    \n",
    "    med = np.median(arr)\n",
    "    bool_idx = np.abs(arr - med) > 0.01\n",
    "    \n",
    "    off_scales = arr[bool_idx]\n",
    "    off_ra = ra[bool_idx]\n",
    "    off_dec = dec[bool_idx]\n",
    "    \n",
    "    all_off_scales.append(off_scales)\n",
    "    all_off_ra.extend(off_ra)\n",
    "    all_off_dec.extend(off_dec)\n",
    "    \n",
    "    print(\" {}  |  {:2d} | {:.5f}\".format(i, off_scales.size, off_scales.size/arr.size))\n",
    "\n",
    "all_off_ra = np.array(all_off_ra)\n",
    "all_off_dec = np.array(all_off_dec)"
   ]
  },
  {
   "cell_type": "code",
   "execution_count": 22,
   "metadata": {},
   "outputs": [
    {
     "data": {
      "image/png": "[encoded data removed]",
      "text/plain": [
       "<Figure size 432x288 with 1 Axes>"
      ]
     },
     "metadata": {
      "needs_background": "light"
     },
     "output_type": "display_data"
    }
   ],
   "source": [
    "fig = figure()\n",
    "ax = fig.add_subplot(1, 1, 1)\n",
    "\n",
    "ax.plot([1, 2, 3], medians, '*', markersize=14, label='Correct Plate Scales')\n",
    "ax.plot(table['xbinning'], table['plate_scale'], '.', label='Astrometry Plate Scales')\n",
    "\n",
    "ax.set_ylabel(\"Plate Scale (arcsec/pixel)\")\n",
    "ax.set_xlabel(\"X Binning\")\n",
    "ax.legend()\n",
    "show()"
   ]
  },
  {
   "cell_type": "markdown",
   "metadata": {},
   "source": [
    "We plot the odds against the plate scales to see if there is a relation between the two. The figure seems to confirm that a low odd, "
   ]
  },
  {
   "cell_type": "code",
   "execution_count": 23,
   "metadata": {},
   "outputs": [
    {
     "data": {
      "image/png": "[encoded data removed]",
      "text/plain": [
       "<Figure size 432x288 with 1 Axes>"
      ]
     },
     "metadata": {
      "needs_background": "light"
     },
     "output_type": "display_data"
    }
   ],
   "source": [
    "fig = figure()\n",
    "ax = fig.add_subplot(1, 1, 1)\n",
    "\n",
    "ax.plot(table['plate_scale'], np.log(table['odds']), '.')\n",
    "\n",
    "ax.set_xlabel(\"Plate Scale (arcsec/pixel)\")\n",
    "ax.set_ylabel(\"Log of Odds\")\n",
    "show()"
   ]
  },
  {
   "cell_type": "markdown",
   "metadata": {},
   "source": [
    "We now plot all the coordinates which have been observed (see previous example), and plot a red cross over those which have incorrect plate scales. As can be seen, almost all impossible observations (dec below -20 degrees) are crossed out."
   ]
  },
  {
   "cell_type": "code",
   "execution_count": 24,
   "metadata": {},
   "outputs": [],
   "source": [
    "query = \"\"\"\n",
    "SELECT top 200000 filename, ra, dec\n",
    "from observations.raw\n",
    "where ra is not NULL and dec is not NULL\n",
    "  AND imagetyp = 'Light Frame'\n",
    "  AND filename NOT LIKE '%/g/%'\n",
    "\"\"\"\n",
    "job = vo.launch_job(query)\n",
    "new_table = job.get_results()"
   ]
  },
  {
   "cell_type": "code",
   "execution_count": 25,
   "metadata": {
    "slideshow": {
     "slide_type": "subslide"
    }
   },
   "outputs": [
    {
     "data": {
      "image/png": "[encoded data removed]",
      "text/plain": [
       "<Figure size 432x288 with 1 Axes>"
      ]
     },
     "metadata": {
      "needs_background": "light"
     },
     "output_type": "display_data"
    }
   ],
   "source": [
    "fig = figure()\n",
    "ax = fig.add_subplot(1, 1, 1)\n",
    "\n",
    "scale = 24/360\n",
    "ax.scatter(new_table['ra'] * scale, new_table['dec'], marker='.')\n",
    "\n",
    "# Plot all coordinates with incorrect plate scales\n",
    "ax.plot(all_off_ra * scale, all_off_dec, 'x', color='r')\n",
    "\n",
    "ax.set_ylim(-90, 90)\n",
    "ax.set_xlim(0, 24)\n",
    "\n",
    "ax.set_xlabel('Right Ascention (hours)')\n",
    "ax.set_ylabel('Declanation (degrees)')\n",
    "\n",
    "show()"
   ]
  }
 ],
 "metadata": {
  "kernelspec": {
   "display_name": "Python 3",
   "language": "python",
   "name": "python3"
  },
  "language_info": {
   "codemirror_mode": {
    "name": "ipython",
    "version": 3
   },
   "file_extension": ".py",
   "mimetype": "text/x-python",
   "name": "python",
   "nbconvert_exporter": "python",
   "pygments_lexer": "ipython3",
   "version": "3.9.4"
  }
 },
 "nbformat": 4,
 "nbformat_minor": 2
}
