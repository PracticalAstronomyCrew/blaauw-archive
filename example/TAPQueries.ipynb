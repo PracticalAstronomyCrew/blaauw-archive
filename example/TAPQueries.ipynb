{
 "cells": [
  {
   "cell_type": "markdown",
   "metadata": {},
   "source": [
    "# TAP Queries\n",
    "An example which shows how to make queries to the TAP service of `vo.astro.rug.nl`."
   ]
  },
  {
   "cell_type": "code",
   "execution_count": 1,
   "metadata": {},
   "outputs": [],
   "source": [
    "from astroquery.utils.tap.core import Tap\n",
    "\n",
    "vo_url = \"http://vo.astro.rug.nl/tap\""
   ]
  },
  {
   "cell_type": "markdown",
   "metadata": {},
   "source": [
    "## Connect to the service"
   ]
  },
  {
   "cell_type": "code",
   "execution_count": 2,
   "metadata": {},
   "outputs": [
    {
     "name": "stdout",
     "output_type": "stream",
     "text": [
      "Created TAP+ (v1.2.1) - Connection:\n",
      "\tHost: vo.astro.rug.nl\n",
      "\tUse HTTPS: False\n",
      "\tPort: 80\n",
      "\tSSL Port: 443\n"
     ]
    }
   ],
   "source": [
    "vo = Tap(url=vo_url, verbose=True)"
   ]
  },
  {
   "cell_type": "markdown",
   "metadata": {},
   "source": [
    "## Query the service\n",
    "To query the service and immediately get the result, use the `launch_job` method and give it a query (ADQL). An example query is given below.\n",
    "\n",
    "The result of the query is a job, from which the result can be retrieved (as an astropy Table) using the `get_results()` method."
   ]
  },
  {
   "cell_type": "code",
   "execution_count": 54,
   "metadata": {},
   "outputs": [
    {
     "name": "stdout",
     "output_type": "stream",
     "text": [
      "<Table length=10>\n",
      "  name    dtype  unit\n",
      "-------- ------- ----\n",
      "filename  object     \n",
      "      ra float64  deg\n",
      "     dec float64  deg\n",
      "date_obs  object     \n"
     ]
    }
   ],
   "source": [
    "query = \"\"\"\n",
    "SELECT TOP 10 filename, ra, dec, date_obs\n",
    "FROM observations.raw\n",
    "WHERE ra IS NOT NULL\n",
    "\"\"\"\n",
    "job = vo.launch_job(query)\n",
    "table = job.get_results()\n",
    "table.info()"
   ]
  },
  {
   "cell_type": "markdown",
   "metadata": {},
   "source": [
    "To see what is actually in the table, provided you are in a notebook, just state the table. The first row gives the column names, the second units and the third the python types. The other rows are the resulting data."
   ]
  },
  {
   "cell_type": "code",
   "execution_count": 55,
   "metadata": {},
   "outputs": [
    {
     "data": {
      "text/html": [
       "<i>Table length=10</i>\n",
       "<table id=\"table139992596274768\" class=\"table-striped table-bordered table-condensed\">\n",
       "<thead><tr><th>filename</th><th>ra</th><th>dec</th><th>date_obs</th></tr></thead>\n",
       "<thead><tr><th></th><th>deg</th><th>deg</th><th></th></tr></thead>\n",
       "<thead><tr><th>object</th><th>float64</th><th>float64</th><th>object</th></tr></thead>\n",
       "<tr><td>/net/vega/data/users/observatory/images/111022/STL-6303E/i/111022_Li_00000047.Jupiter.fits</td><td>34.165770833333326</td><td>12.112330555555555</td><td>2011-10-22T18:59:30.890</td></tr>\n",
       "<tr><td>/net/vega/data/users/observatory/images/111022/STL-6303E/i/111022_Li_00000037.Jupiter.fits</td><td>34.165770833333326</td><td>12.112330555555555</td><td>2011-10-22T18:26:10.468</td></tr>\n",
       "<tr><td>/net/vega/data/users/observatory/images/111022/STL-6303E/i/111022_Li_00000031.Jupiter.fits</td><td>33.96592499999999</td><td>11.945536111111112</td><td>2011-10-22T18:18:26.015</td></tr>\n",
       "<tr><td>/net/vega/data/users/observatory/images/111022/STL-6303E/i/111022_Li_00000032.Jupiter.fits</td><td>34.165770833333326</td><td>12.112330555555555</td><td>2011-10-22T18:19:03.390</td></tr>\n",
       "<tr><td>/net/vega/data/users/observatory/images/111022/STL-6303E/i/111022_Li_00000041.Jupiter.fits</td><td>34.165770833333326</td><td>12.112330555555555</td><td>2011-10-22T18:36:02.640</td></tr>\n",
       "<tr><td>/net/vega/data/users/observatory/images/111022/STL-6303E/i/111022_Li_00000045.Jupiter.fits</td><td>34.165770833333326</td><td>12.112330555555555</td><td>2011-10-22T18:56:52.593</td></tr>\n",
       "<tr><td>/net/vega/data/users/observatory/images/111022/STL-6303E/i/111022_Li_00000027.Jupiter.fits</td><td>34.16582916666666</td><td>12.028997222222223</td><td>2011-10-22T18:15:23.000</td></tr>\n",
       "<tr><td>/net/vega/data/users/observatory/images/111022/STL-6303E/i/111022_Li_00000042.Jupiter.fits</td><td>34.165770833333326</td><td>12.112330555555555</td><td>2011-10-22T18:38:30.875</td></tr>\n",
       "<tr><td>/net/vega/data/users/observatory/images/111022/STL-6303E/i/111022_Li_00000046.Jupiter.fits</td><td>34.165770833333326</td><td>12.112330555555555</td><td>2011-10-22T18:58:31.828</td></tr>\n",
       "<tr><td>/net/vega/data/users/observatory/images/111022/STL-6303E/i/111022_Li_00000049.Jupiter.fits</td><td>34.165770833333326</td><td>12.112330555555555</td><td>2011-10-22T19:01:32.609</td></tr>\n",
       "</table>"
      ],
      "text/plain": [
       "<Table length=10>\n",
       "                                         filename                                          ...\n",
       "                                                                                           ...\n",
       "                                          object                                           ...\n",
       "------------------------------------------------------------------------------------------ ...\n",
       "/net/vega/data/users/observatory/images/111022/STL-6303E/i/111022_Li_00000047.Jupiter.fits ...\n",
       "/net/vega/data/users/observatory/images/111022/STL-6303E/i/111022_Li_00000037.Jupiter.fits ...\n",
       "/net/vega/data/users/observatory/images/111022/STL-6303E/i/111022_Li_00000031.Jupiter.fits ...\n",
       "/net/vega/data/users/observatory/images/111022/STL-6303E/i/111022_Li_00000032.Jupiter.fits ...\n",
       "/net/vega/data/users/observatory/images/111022/STL-6303E/i/111022_Li_00000041.Jupiter.fits ...\n",
       "/net/vega/data/users/observatory/images/111022/STL-6303E/i/111022_Li_00000045.Jupiter.fits ...\n",
       "/net/vega/data/users/observatory/images/111022/STL-6303E/i/111022_Li_00000027.Jupiter.fits ...\n",
       "/net/vega/data/users/observatory/images/111022/STL-6303E/i/111022_Li_00000042.Jupiter.fits ...\n",
       "/net/vega/data/users/observatory/images/111022/STL-6303E/i/111022_Li_00000046.Jupiter.fits ...\n",
       "/net/vega/data/users/observatory/images/111022/STL-6303E/i/111022_Li_00000049.Jupiter.fits ..."
      ]
     },
     "execution_count": 55,
     "metadata": {},
     "output_type": "execute_result"
    }
   ],
   "source": [
    "table"
   ]
  },
  {
   "cell_type": "markdown",
   "metadata": {},
   "source": [
    "As the result is, conveniently, an astropy Table we can easily perform some operations on it. For example, get a list of coordinates using the SkyCoord class. You can explicitly give the columns to the skycoord object alongside a unit (degrees in this case), or just guess using the `guess_from_table` method.\n",
    "As both give the same result, the latter is more convenient."
   ]
  },
  {
   "cell_type": "code",
   "execution_count": null,
   "metadata": {},
   "outputs": [],
   "source": [
    "from astropy.coordinates import SkyCoord\n",
    "from astropy.table import Table"
   ]
  },
  {
   "cell_type": "code",
   "execution_count": 88,
   "metadata": {},
   "outputs": [
    {
     "data": {
      "text/plain": [
       "array(['Aries', 'Aries', 'Aries', 'Aries', 'Aries', 'Aries', 'Aries',\n",
       "       'Aries', 'Aries', 'Aries'], dtype='<U19')"
      ]
     },
     "execution_count": 88,
     "metadata": {},
     "output_type": "execute_result"
    }
   ],
   "source": [
    "c = SkyCoord(table['ra'], table['dec'], unit='deg')  # explicit (give unit & columns)\n",
    "c = SkyCoord.guess_from_table(table)                 # guess\n",
    "\n",
    "c.get_constellation() # use any of the SkyCoord methods !"
   ]
  },
  {
   "cell_type": "markdown",
   "metadata": {},
   "source": [
    "## Example: Get a histogram of observations per day from 2019\n"
   ]
  },
  {
   "cell_type": "code",
   "execution_count": 3,
   "metadata": {},
   "outputs": [],
   "source": [
    "from astropy.time import Time\n",
    "from matplotlib.pyplot import figure, show\n",
    "import numpy as np"
   ]
  },
  {
   "cell_type": "code",
   "execution_count": null,
   "metadata": {},
   "outputs": [],
   "source": [
    "# Get the JD version of Jan 1st of 2019\n",
    "since_date = Time('2019-01-01T12:00:00.000').jd\n",
    "\n",
    "# Prepare query (note, there is a 2000 row limit by default, use an async query above that)\n",
    "query = \"\"\"\n",
    "SELECT obs_jd\n",
    "FROM observations.raw\n",
    "WHERE imagetyp = 'Light Frame' AND obs_jd >= {}\n",
    "\"\"\".format(since_date)\n",
    "\n",
    "# Launch the job and get the resulting table\n",
    "job = vo.launch_job(query)\n",
    "table = job.get_results()"
   ]
  },
  {
   "cell_type": "code",
   "execution_count": 209,
   "metadata": {},
   "outputs": [],
   "source": [
    "days = table['obs_jd'].astype(int)  # convert to the day (e.g. noon the day before)\n",
    "days -= int(since_date)  # offset by the starting date for nicer display"
   ]
  },
  {
   "cell_type": "code",
   "execution_count": 213,
   "metadata": {},
   "outputs": [
    {
     "data": {
      "image/png": "[encoded data removed]",
      "text/plain": [
       "<Figure size 1080x288 with 1 Axes>"
      ]
     },
     "metadata": {
      "needs_background": "light"
     },
     "output_type": "display_data"
    }
   ],
   "source": [
    "# Prepare the figure\n",
    "fig = figure(figsize=(15, 4))\n",
    "ax = fig.add_subplot(1, 1, 1)\n",
    "\n",
    "# Plot the histogram\n",
    "n, bins, patches = ax.hist(days, bins=days.max() - days.min())\n",
    "\n",
    "# Add the 2020 line\n",
    "t = Time('2020-01-01T12:00:00.000').jd - since_date\n",
    "ax.axvline(t, c='k')\n",
    "ax.text(t+10, ax.get_ylim()[-1] - ax.get_ylim()[-1]*.1, \"Start of 2020\")\n",
    "\n",
    "# Add some labels and a title\n",
    "ax.set_ylabel('Number of observations')\n",
    "ax.set_xlabel('Days since the offset day (default 2019-01-01)')\n",
    "ax.set_title(\"Number of observations (light frames) per day\")\n",
    "show()"
   ]
  }
 ],
 "metadata": {
  "kernelspec": {
   "display_name": "Python 3",
   "language": "python",
   "name": "python3"
  },
  "language_info": {
   "codemirror_mode": {
    "name": "ipython",
    "version": 3
   },
   "file_extension": ".py",
   "mimetype": "text/x-python",
   "name": "python",
   "nbconvert_exporter": "python",
   "pygments_lexer": "ipython3",
   "version": "3.8.5"
  }
 },
 "nbformat": 4,
 "nbformat_minor": 2
}
