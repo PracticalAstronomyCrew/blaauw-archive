{
 "cells": [
  {
   "cell_type": "markdown",
   "metadata": {
    "slideshow": {
     "slide_type": "slide"
    }
   },
   "source": [
    "# TAP Queries\n",
    "An example which shows how to make queries to the TAP service of `vo.astro.rug.nl`."
   ]
  },
  {
   "cell_type": "code",
   "execution_count": 1,
   "metadata": {
    "slideshow": {
     "slide_type": "fragment"
    }
   },
   "outputs": [],
   "source": [
    "from astroquery.utils.tap.core import Tap\n",
    "\n",
    "from astropy.coordinates import SkyCoord\n",
    "from astropy.table import Table\n",
    "from astropy.time import Time\n",
    "\n",
    "from matplotlib.pyplot import figure, show\n",
    "import numpy as np"
   ]
  },
  {
   "cell_type": "markdown",
   "metadata": {
    "slideshow": {
     "slide_type": "slide"
    }
   },
   "source": [
    "## Connect to the service"
   ]
  },
  {
   "cell_type": "code",
   "execution_count": 2,
   "metadata": {
    "slideshow": {
     "slide_type": "fragment"
    }
   },
   "outputs": [
    {
     "name": "stdout",
     "output_type": "stream",
     "text": [
      "Created TAP+ (v1.2.1) - Connection:\n",
      "\tHost: vo.astro.rug.nl\n",
      "\tUse HTTPS: False\n",
      "\tPort: 80\n",
      "\tSSL Port: 443\n"
     ]
    }
   ],
   "source": [
    "vo_url = \"http://vo.astro.rug.nl/tap\"\n",
    "vo = Tap(url=vo_url, verbose=True)"
   ]
  },
  {
   "cell_type": "markdown",
   "metadata": {
    "slideshow": {
     "slide_type": "slide"
    }
   },
   "source": [
    "## Query the service\n",
    "To query the service and immediately get the result, use the `launch_job` method and give it a query (ADQL). An example query is given below.\n",
    "\n",
    "The result of the query is a job, from which the result can be retrieved (as an astropy Table) using the `get_results()` method."
   ]
  },
  {
   "cell_type": "code",
   "execution_count": 3,
   "metadata": {
    "slideshow": {
     "slide_type": "fragment"
    }
   },
   "outputs": [
    {
     "name": "stdout",
     "output_type": "stream",
     "text": [
      "<Table length=10>\n",
      "  name    dtype  unit\n",
      "-------- ------- ----\n",
      "filename  object     \n",
      "      ra float64  deg\n",
      "     dec float64  deg\n",
      "date_obs  object     \n"
     ]
    }
   ],
   "source": [
    "query = \"\"\"\n",
    "SELECT TOP 10 filename, ra, dec, date_obs\n",
    "FROM observations.raw\n",
    "WHERE ra IS NOT NULL\n",
    "ORDER BY date_obs\n",
    "\"\"\"\n",
    "\n",
    "job = vo.launch_job(query)\n",
    "table = job.get_results()\n",
    "\n",
    "table.info()  # some simple information on the resulting table"
   ]
  },
  {
   "cell_type": "markdown",
   "metadata": {
    "slideshow": {
     "slide_type": "skip"
    }
   },
   "source": [
    "To see what is actually in the table, provided you are in a notebook, just state the table. The first row gives the column names, the second units and the third the python types. The other rows are the resulting data."
   ]
  },
  {
   "cell_type": "code",
   "execution_count": 4,
   "metadata": {
    "slideshow": {
     "slide_type": "subslide"
    }
   },
   "outputs": [
    {
     "data": {
      "text/html": [
       "<i>Table length=10</i>\n",
       "<table id=\"table140463655098112\" class=\"table-striped table-bordered table-condensed\">\n",
       "<thead><tr><th>filename</th><th>ra</th><th>dec</th><th>date_obs</th></tr></thead>\n",
       "<thead><tr><th></th><th>deg</th><th>deg</th><th></th></tr></thead>\n",
       "<thead><tr><th>object</th><th>float64</th><th>float64</th><th>object</th></tr></thead>\n",
       "<tr><td>/net/dataserver3/data/users/noelstorr/blaauwastrom/090309/astrom_090309_Li_021.fits</td><td>218.105519551</td><td>26.7344644832</td><td>2009-03-10T00:43:14.203</td></tr>\n",
       "<tr><td>/net/vega/data/users/observatory/images/090309/STL-6303E/i/090309_Li_021.fits</td><td>218.09814999999998</td><td>26.673555555555556</td><td>2009-03-10T00:43:14.203</td></tr>\n",
       "<tr><td>/net/dataserver3/data/users/noelstorr/blaauwastrom/090317/astrom_090317_Li_001.fits</td><td>113.850723895</td><td>65.6476491812</td><td>2009-03-17T19:42:34.906</td></tr>\n",
       "<tr><td>/net/dataserver3/data/users/noelstorr/blaauwastrom/090317/astrom_090317_Li_002.fits</td><td>113.850857426</td><td>65.6476134898</td><td>2009-03-17T19:46:17.234</td></tr>\n",
       "<tr><td>/net/dataserver3/data/users/noelstorr/blaauwastrom/090317/astrom_090317_Li_003.fits</td><td>172.282323816</td><td>28.9624338909</td><td>2009-03-17T20:00:40.234</td></tr>\n",
       "<tr><td>/net/dataserver3/data/users/noelstorr/blaauwastrom/090317/astrom_090317_Li_004.fits</td><td>172.282282288</td><td>28.9624505782</td><td>2009-03-17T20:02:01.656</td></tr>\n",
       "<tr><td>/net/dataserver3/data/users/noelstorr/blaauwastrom/090317/astrom_090317_Li_005.fits</td><td>133.248155591</td><td>-0.720509034562</td><td>2009-03-17T20:08:29.046</td></tr>\n",
       "<tr><td>/net/dataserver3/data/users/noelstorr/blaauwastrom/090317/astrom_090317_Li_006.fits</td><td>133.248187443</td><td>-0.720442761718</td><td>2009-03-17T20:09:40.921</td></tr>\n",
       "<tr><td>/net/dataserver3/data/users/noelstorr/blaauwastrom/090317/astrom_090317_Li_007.fits</td><td>120.602103898</td><td>15.6568305875</td><td>2009-03-17T21:05:23.234</td></tr>\n",
       "<tr><td>/net/dataserver3/data/users/noelstorr/blaauwastrom/090317/astrom_090317_Li_008.fits</td><td>120.735553573</td><td>15.6765523738</td><td>2009-03-17T21:08:36.375</td></tr>\n",
       "</table>"
      ],
      "text/plain": [
       "<Table length=10>\n",
       "                                      filename                                      ...\n",
       "                                                                                    ...\n",
       "                                       object                                       ...\n",
       "----------------------------------------------------------------------------------- ...\n",
       "/net/dataserver3/data/users/noelstorr/blaauwastrom/090309/astrom_090309_Li_021.fits ...\n",
       "      /net/vega/data/users/observatory/images/090309/STL-6303E/i/090309_Li_021.fits ...\n",
       "/net/dataserver3/data/users/noelstorr/blaauwastrom/090317/astrom_090317_Li_001.fits ...\n",
       "/net/dataserver3/data/users/noelstorr/blaauwastrom/090317/astrom_090317_Li_002.fits ...\n",
       "/net/dataserver3/data/users/noelstorr/blaauwastrom/090317/astrom_090317_Li_003.fits ...\n",
       "/net/dataserver3/data/users/noelstorr/blaauwastrom/090317/astrom_090317_Li_004.fits ...\n",
       "/net/dataserver3/data/users/noelstorr/blaauwastrom/090317/astrom_090317_Li_005.fits ...\n",
       "/net/dataserver3/data/users/noelstorr/blaauwastrom/090317/astrom_090317_Li_006.fits ...\n",
       "/net/dataserver3/data/users/noelstorr/blaauwastrom/090317/astrom_090317_Li_007.fits ...\n",
       "/net/dataserver3/data/users/noelstorr/blaauwastrom/090317/astrom_090317_Li_008.fits ..."
      ]
     },
     "execution_count": 4,
     "metadata": {},
     "output_type": "execute_result"
    }
   ],
   "source": [
    "table"
   ]
  },
  {
   "cell_type": "markdown",
   "metadata": {
    "slideshow": {
     "slide_type": "skip"
    }
   },
   "source": [
    "As the result is, conveniently, an astropy Table we can easily perform some operations on it. For example, get a list of coordinates using the SkyCoord class. You can explicitly give the columns to the skycoord object alongside a unit (degrees in this case), or just guess using the `guess_from_table` method.\n",
    "As both give the same result, the latter is more convenient."
   ]
  },
  {
   "cell_type": "code",
   "execution_count": 5,
   "metadata": {
    "slideshow": {
     "slide_type": "subslide"
    }
   },
   "outputs": [
    {
     "data": {
      "text/plain": [
       "array(['Boötes', 'Boötes', 'Camelopardalis', 'Camelopardalis',\n",
       "       'Ursa Major', 'Ursa Major', 'Hydra', 'Hydra', 'Cancer', 'Cancer'],\n",
       "      dtype='<U19')"
      ]
     },
     "execution_count": 5,
     "metadata": {},
     "output_type": "execute_result"
    }
   ],
   "source": [
    "from matplotlib.pyplot import figure, show\n",
    "import numpy as np\n",
    "\n",
    "c = SkyCoord(table['ra'], table['dec'], unit='deg')  # explicit (give unit & columns)\n",
    "c = SkyCoord.guess_from_table(table)                 # guess\n",
    "\n",
    "c.get_constellation() # use any of the SkyCoord methods !"
   ]
  },
  {
   "cell_type": "markdown",
   "metadata": {
    "slideshow": {
     "slide_type": "slide"
    }
   },
   "source": [
    "## Example: Get a Histogram of Observations per day Starting from 2019"
   ]
  },
  {
   "cell_type": "code",
   "execution_count": 6,
   "metadata": {
    "slideshow": {
     "slide_type": "fragment"
    }
   },
   "outputs": [],
   "source": [
    "# Get the JD version of Jan 1st of 2019\n",
    "since_date = Time('2019-01-01T12:00:00.000').jd\n",
    "\n",
    "# Prepare query\n",
    "query = \"\"\"\n",
    "SELECT TOP 20000 FLOOR(obs_jd) as obs_jd\n",
    "FROM observations.raw\n",
    "WHERE imagetyp = 'Light Frame' AND obs_jd >= {}\n",
    "\"\"\".format(since_date)\n",
    "\n",
    "# Launch the job and get the resulting table\n",
    "job = vo.launch_job(query)\n",
    "table = job.get_results()"
   ]
  },
  {
   "cell_type": "code",
   "execution_count": 7,
   "metadata": {
    "slideshow": {
     "slide_type": "fragment"
    }
   },
   "outputs": [],
   "source": [
    "days = table['obs_jd'].astype(int) - int(since_date)  # offset by the starting date for nicer display"
   ]
  },
  {
   "cell_type": "code",
   "execution_count": 8,
   "metadata": {
    "slideshow": {
     "slide_type": "subslide"
    }
   },
   "outputs": [
    {
     "data": {
      "image/png": "[encoded data removed]",
      "text/plain": [
       "<Figure size 1080x288 with 1 Axes>"
      ]
     },
     "metadata": {
      "needs_background": "light"
     },
     "output_type": "display_data"
    }
   ],
   "source": [
    "# Prepare the figure\n",
    "fig = figure(figsize=(15, 4))\n",
    "ax = fig.add_subplot(1, 1, 1)\n",
    "\n",
    "# Plot the histogram\n",
    "n, bins, patches = ax.hist(days, bins=days.max() - days.min())\n",
    "\n",
    "# Add the 2020 line\n",
    "t = Time('2020-01-01T12:00:00.000').jd - since_date\n",
    "ax.axvline(t, c='k')\n",
    "ax.text(t+10, ax.get_ylim()[-1] - ax.get_ylim()[-1]*.1, \"Start of 2020\")\n",
    "\n",
    "# Add some labels and a title\n",
    "ax.set_ylabel('Number of observations')\n",
    "ax.set_xlabel('Days since the offset day (default 2019-01-01)')\n",
    "ax.set_title(\"Number of observations (light frames) per day\")\n",
    "show()"
   ]
  },
  {
   "cell_type": "markdown",
   "metadata": {
    "slideshow": {
     "slide_type": "slide"
    }
   },
   "source": [
    "## Example: Plot the Coordinates of all Observations"
   ]
  },
  {
   "cell_type": "code",
   "execution_count": 9,
   "metadata": {
    "slideshow": {
     "slide_type": "fragment"
    }
   },
   "outputs": [],
   "source": [
    "query = \"\"\"\n",
    "SELECT TOP 20000 ra, dec\n",
    "FROM observations.raw\n",
    "WHERE ra IS NOT NULL \n",
    "  AND dec IS NOT NULL\n",
    "  AND imagetyp = 'Light Frame'\n",
    "  AND filename NOT LIKE '%/g/%'\n",
    "\"\"\"\n",
    "\n",
    "job = vo.launch_job(query)"
   ]
  },
  {
   "cell_type": "code",
   "execution_count": 10,
   "metadata": {
    "slideshow": {
     "slide_type": "fragment"
    }
   },
   "outputs": [
    {
     "name": "stdout",
     "output_type": "stream",
     "text": [
      "<Table length=8722>\n",
      "name  dtype  unit\n",
      "---- ------- ----\n",
      "  ra float64  deg\n",
      " dec float64  deg\n"
     ]
    }
   ],
   "source": [
    "table = job.get_results()\n",
    "table.info()"
   ]
  },
  {
   "cell_type": "code",
   "execution_count": 11,
   "metadata": {
    "slideshow": {
     "slide_type": "subslide"
    }
   },
   "outputs": [
    {
     "data": {
      "image/png": "[encoded data removed]",
      "text/plain": [
       "<Figure size 432x288 with 1 Axes>"
      ]
     },
     "metadata": {
      "needs_background": "light"
     },
     "output_type": "display_data"
    }
   ],
   "source": [
    "fig = figure()\n",
    "ax = fig.add_subplot(1, 1, 1)\n",
    "\n",
    "ra = table['ra']\n",
    "dec = table['dec']\n",
    "ax.scatter(ra / (360/24), dec, marker='.')\n",
    "\n",
    "ax.set_ylim(-90, 90)\n",
    "ax.set_xlim(0, 24)\n",
    "\n",
    "ax.set_xlabel('Right Ascention (hours)')\n",
    "ax.set_ylabel('Declanation (degrees)')\n",
    "\n",
    "show()"
   ]
  },
  {
   "cell_type": "markdown",
   "metadata": {
    "slideshow": {
     "slide_type": "skip"
    }
   },
   "source": [
    "We also create a second plot which perhaps is less scientific, but gives a better view on the density of the observations. The rounded effect is done by interpolating (otherwise there would not be a lot visible)."
   ]
  },
  {
   "cell_type": "code",
   "execution_count": 12,
   "metadata": {
    "slideshow": {
     "slide_type": "subslide"
    }
   },
   "outputs": [],
   "source": [
    "hist2d, xedge, yedge = np.histogram2d(ra, dec, bins=[20, 10], range=[[0, 360], [-90, 90]])\n",
    "hist2d += 1\n",
    "hist2d = np.log(hist2d)"
   ]
  },
  {
   "cell_type": "code",
   "execution_count": 13,
   "metadata": {
    "slideshow": {
     "slide_type": "fragment"
    }
   },
   "outputs": [
    {
     "data": {
      "image/png": "[encoded data removed]",
      "text/plain": [
       "<Figure size 432x288 with 2 Axes>"
      ]
     },
     "metadata": {
      "needs_background": "light"
     },
     "output_type": "display_data"
    }
   ],
   "source": [
    "fig = figure()\n",
    "ax = fig.add_subplot(1, 1, 1)\n",
    "\n",
    "im = ax.imshow(hist2d.T, origin='lower', interpolation='spline16', extent=[0, 360, -90, 90])\n",
    "\n",
    "ax.set_xlabel('Right Ascention (degrees)')\n",
    "ax.set_ylabel('Declanation (degrees)')\n",
    "\n",
    "fig.colorbar(im, ax=ax, fraction=0.024, pad=0.04)\n",
    "show()"
   ]
  },
  {
   "cell_type": "markdown",
   "metadata": {
    "slideshow": {
     "slide_type": "slide"
    }
   },
   "source": [
    "## Example: Retrieving all Filenames Satisfying a Certain Query"
   ]
  },
  {
   "cell_type": "code",
   "execution_count": 14,
   "metadata": {
    "slideshow": {
     "slide_type": "fragment"
    }
   },
   "outputs": [],
   "source": [
    "object_name = \"Jupiter\"\n",
    "\n",
    "query = \"\"\"\n",
    "SELECT filename, object, ra, dec, date_obs\n",
    "FROM observations.raw\n",
    "WHERE object = '{}'\n",
    "ORDER BY date_obs\n",
    "\"\"\".format(object_name)\n",
    "\n",
    "job = vo.launch_job(query)\n",
    "table = job.get_results()"
   ]
  },
  {
   "cell_type": "code",
   "execution_count": 15,
   "metadata": {
    "slideshow": {
     "slide_type": "subslide"
    }
   },
   "outputs": [
    {
     "name": "stdout",
     "output_type": "stream",
     "text": [
      "/net/vega/data/users/observatory/images/080925/STL-6303E/i/Jupiter2.fits\n",
      "/net/vega/data/users/observatory/images/080925/STL-6303E/i/Jupiter3.fits\n",
      "/net/vega/data/users/observatory/images/080926/STL-6303E/i/Jupiter0.fits\n",
      "/net/vega/data/users/observatory/images/080927/STL-6303E/i/JupiterR0,2s1.fits\n",
      "/net/vega/data/users/observatory/images/080927/STL-6303E/i/JupiterV0,2s2.fits\n",
      "/net/vega/data/users/observatory/images/080927/STL-6303E/i/JupiterV10s3.fits\n",
      "...\n",
      "/net/vega/data/users/observatory/images/111023/STL-6303E/i/111023_Li_.00000038.Jupiter.FIT\n",
      "/net/vega/data/users/observatory/images/111023/STL-6303E/i/111023_Li_.00000039.Jupiter.FIT\n",
      "/net/vega/data/users/observatory/images/111023/STL-6303E/i/111023_Li_.00000040.Jupiter.FIT\n",
      "/net/vega/data/users/observatory/images/111023/STL-6303E/i/111023_Li_.00000041.Jupiter.FIT\n",
      "/net/vega/data/users/observatory/images/111023/STL-6303E/i/111023_Li_.00000042.Jupiter.FIT\n",
      "/net/vega/data/users/observatory/images/111023/STL-6303E/i/111023_Li_.00000043.Jupiter.FIT\n"
     ]
    }
   ],
   "source": [
    "# Note that we need to use .decode() !\n",
    "filenames = [fn.decode() for fn in table['filename']] \n",
    "\n",
    "# Print part of the resulting list on separate lines\n",
    "print('\\n'.join(filenames[:6]))\n",
    "print('...')\n",
    "print('\\n'.join(filenames[-6:]))"
   ]
  },
  {
   "cell_type": "markdown",
   "metadata": {
    "slideshow": {
     "slide_type": "slide"
    }
   },
   "source": [
    "## Example: Selecting Observations Closest to a Given Date"
   ]
  },
  {
   "cell_type": "code",
   "execution_count": 16,
   "metadata": {
    "slideshow": {
     "slide_type": "fragment"
    }
   },
   "outputs": [],
   "source": [
    "# night of the 17th of April 2020\n",
    "ref_date = Time(\"2020-04-18T01:25:53.895\").jd  \n",
    "\n",
    "query = \"\"\"\n",
    "SELECT TOP 100 filename, date_obs, ABS(obs_jd - {}) AS difference\n",
    "FROM observations.raw\n",
    "ORDER BY difference\n",
    "\"\"\".format(ref_date)\n",
    "\n",
    "job = vo.launch_job(query)\n",
    "table = job.get_results()"
   ]
  },
  {
   "cell_type": "markdown",
   "metadata": {
    "slideshow": {
     "slide_type": "subslide"
    }
   },
   "source": [
    "Now more specific (an example from my own Observational Astronomy project).\n",
    "\n",
    "We had the case where we needed 3x3 binned Flat Field images, but only 1x1 binned were taken on that night. So, we wanted to find the next best thing, which are the most recent 3x3 flats relative to our observation night.\n",
    "\n",
    "In addition, we solve the issue of the absolute difference, which can lead to a mix of results from before and after the date."
   ]
  },
  {
   "cell_type": "code",
   "execution_count": 17,
   "metadata": {
    "slideshow": {
     "slide_type": "fragment"
    }
   },
   "outputs": [],
   "source": [
    "query = \"\"\"\n",
    "SELECT TOP 10 filename, date_obs, filter,\n",
    "              ABS(obs_jd - {0}) AS abs_difference,\n",
    "              obs_jd - {0} AS difference\n",
    "FROM observations.raw\n",
    "WHERE imagetyp = 'Flat Field' AND xbinning = 3 AND ybinning = 3\n",
    "ORDER BY abs_difference\n",
    "\"\"\".format(ref_date)\n",
    "\n",
    "job = vo.launch_job(query)\n",
    "table = job.get_results()"
   ]
  },
  {
   "cell_type": "code",
   "execution_count": 18,
   "metadata": {
    "slideshow": {
     "slide_type": "subslide"
    }
   },
   "outputs": [
    {
     "name": "stdout",
     "output_type": "stream",
     "text": [
      "Taken before date:\n",
      "filename\n",
      "--------\n",
      "\n",
      "\n",
      "Taken after date:\n",
      "                                                   filename                                                   \n",
      "--------------------------------------------------------------------------------------------------------------\n",
      "/net/vega/data/users/observatory/images/200418/STL-6303E/i/200418_Li_.00000030.13h13m22.7s_27d58m22sN.FLAT.FIT\n",
      "/net/vega/data/users/observatory/images/200418/STL-6303E/i/200418_Li_.00000031.13h13m29.8s_27d58m47sN.FLAT.FIT\n",
      "/net/vega/data/users/observatory/images/200418/STL-6303E/i/200418_Li_.00000032.13h13m36.8s_27d59m13sN.FLAT.FIT\n",
      "/net/vega/data/users/observatory/images/200418/STL-6303E/i/200418_Li_.00000033.13h13m44.8s_27d59m38sN.FLAT.FIT\n",
      "/net/vega/data/users/observatory/images/200418/STL-6303E/i/200418_Li_.00000034.13h13m50.8s_28d00m04sN.FLAT.FIT\n",
      "/net/vega/data/users/observatory/images/200418/STL-6303E/i/200418_Li_.00000035.13h13m59.8s_28d00m30sN.FLAT.FIT\n",
      "/net/vega/data/users/observatory/images/200418/STL-6303E/i/200418_Li_.00000036.13h14m05.8s_28d00m56sN.FLAT.FIT\n",
      "/net/vega/data/users/observatory/images/200418/STL-6303E/i/200418_Li_.00000037.13h14m11.8s_28d01m22sN.FLAT.FIT\n",
      "/net/vega/data/users/observatory/images/200418/STL-6303E/i/200418_Li_.00000038.13h14m19.8s_28d01m48sN.FLAT.FIT\n",
      "/net/vega/data/users/observatory/images/200418/STL-6303E/i/200418_Li_.00000039.13h14m26.8s_28d02m13sN.FLAT.FIT\n"
     ]
    }
   ],
   "source": [
    "selector = table['difference'] < 0\n",
    "\n",
    "print('T200418_Laken before date:')\n",
    "print(table[selector]['filename'])\n",
    "\n",
    "print()\n",
    "print()\n",
    "\n",
    "print('Taken after date:')\n",
    "print(table[~selector]['filename'])"
   ]
  }
 ],
 "metadata": {
  "kernelspec": {
   "display_name": "Python 3",
   "language": "python",
   "name": "python3"
  },
  "language_info": {
   "codemirror_mode": {
    "name": "ipython",
    "version": 3
   },
   "file_extension": ".py",
   "mimetype": "text/x-python",
   "name": "python",
   "nbconvert_exporter": "python",
   "pygments_lexer": "ipython3",
   "version": "3.8.5"
  }
 },
 "nbformat": 4,
 "nbformat_minor": 2
}
