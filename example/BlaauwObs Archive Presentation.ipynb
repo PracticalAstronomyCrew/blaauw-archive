{
 "cells": [
  {
   "cell_type": "markdown",
   "metadata": {
    "slideshow": {
     "slide_type": "slide"
    }
   },
   "source": [
    "# Blaauw Observatory Archive \n",
    "### Demo / Tutorial\n",
    "##### _02/10/2020_\n",
    "#### Sten Sipma - sipma@astro.rug.nl"
   ]
  },
  {
   "cell_type": "markdown",
   "metadata": {
    "slideshow": {
     "slide_type": "slide"
    }
   },
   "source": [
    "## Overview\n",
    "- Introduction\n",
    "- SQL & ADQL Basics\n",
    "- Tap Interfaces\n",
    "- Python Interface & Example Queries\n",
    "- Future Development"
   ]
  },
  {
   "cell_type": "markdown",
   "metadata": {
    "slideshow": {
     "slide_type": "slide"
    }
   },
   "source": [
    "# Introduction"
   ]
  },
  {
   "cell_type": "markdown",
   "metadata": {
    "slideshow": {
     "slide_type": "fragment"
    }
   },
   "source": [
    "- Turn folders located at: `/net/vega/data/users/observatory/images/`"
   ]
  },
  {
   "cell_type": "markdown",
   "metadata": {
    "slideshow": {
     "slide_type": "fragment"
    }
   },
   "source": [
    "- Into:\n",
    "[http://vo.astro.rug.nl/](http://vo.astro.rug.nl/)"
   ]
  },
  {
   "cell_type": "markdown",
   "metadata": {
    "slideshow": {
     "slide_type": "subslide"
    }
   },
   "source": [
    "## Blaauw Observatory Archive VO:\n",
    "A database containing the FITS headers of each observation!\n",
    "\n",
    "Accessible through:\n",
    "- Web Interface:  [http://vo.astro.rug.nl/](http://vo.astro.rug.nl/)\n",
    "- TAP:            [http://vo.astro.rug.nl/tap](http://vo.astro.rug.nl/tap)"
   ]
  },
  {
   "cell_type": "markdown",
   "metadata": {
    "slideshow": {
     "slide_type": "slide"
    }
   },
   "source": [
    "# SQL & ADQL basics"
   ]
  },
  {
   "cell_type": "markdown",
   "metadata": {
    "slideshow": {
     "slide_type": "fragment"
    }
   },
   "source": [
    "SQL (Structured Query Language) is used to define and query those databases. We will restrict ourselves to just querying the database!"
   ]
  },
  {
   "cell_type": "code",
   "execution_count": 1,
   "metadata": {
    "slideshow": {
     "slide_type": "skip"
    }
   },
   "outputs": [],
   "source": [
    "# standard python library\n",
    "import sqlite3\n",
    "\n",
    "# pip install tabulate\n",
    "from tabulate import tabulate"
   ]
  },
  {
   "cell_type": "code",
   "execution_count": 2,
   "metadata": {
    "slideshow": {
     "slide_type": "skip"
    }
   },
   "outputs": [],
   "source": [
    "data = [(\"Alice\", 20), (\"John\", 73), (None, 0), (\"Bob\", 37), (\"Eve\", None), (\"Jane\", 91), (\"Claire\", 42)]\n",
    "coldata = [(\"Alice\", \"Green\"), (\"Bob\", \"Magenta\"), (\"Eve\", \"White\"), (\"Claire\", \"Purple\")]\n",
    "\n",
    "con = sqlite3.connect(\":memory:\")\n",
    "with con as curs:\n",
    "    curs.execute(\"CREATE TABLE record (name VARCHAR, age INTEGER);\")\n",
    "    curs.executemany(\"INSERT INTO record VALUES (?, ?)\", data)\n",
    "    curs.execute(\"CREATE TABLE colours (name VARCHAR, colour VARCHAR);\")\n",
    "    curs.executemany(\"INSERT INTO colours VALUES (?, ?)\", coldata)\n",
    "    \n",
    "curs = con.cursor()"
   ]
  },
  {
   "cell_type": "code",
   "execution_count": 3,
   "metadata": {
    "slideshow": {
     "slide_type": "skip"
    }
   },
   "outputs": [],
   "source": [
    "def print_table(table, **kwargs):\n",
    "    if 'headers' not in kwargs:\n",
    "        kwargs['headers'] = [\"Name\", \"Age\"]\n",
    "    print(tabulate(table, tablefmt='github', **kwargs))\n",
    "\n",
    "def make_query(query):\n",
    "    curs.execute(query)\n",
    "    result = curs.fetchall()\n",
    "    return result\n",
    "\n",
    "def print_query(query, **kwargs):\n",
    "    print_table(make_query(query), **kwargs)"
   ]
  },
  {
   "cell_type": "markdown",
   "metadata": {
    "slideshow": {
     "slide_type": "fragment"
    }
   },
   "source": [
    "Given some table named `record`, with names and ages. Note that some values are not available (they are `NULL`):"
   ]
  },
  {
   "cell_type": "code",
   "execution_count": 4,
   "metadata": {
    "slideshow": {
     "slide_type": "fragment"
    }
   },
   "outputs": [
    {
     "name": "stdout",
     "output_type": "stream",
     "text": [
      "| Name   |   Age |\n",
      "|--------|-------|\n",
      "| Alice  |    20 |\n",
      "| John   |    73 |\n",
      "|        |     0 |\n",
      "| Bob    |    37 |\n",
      "| Eve    |       |\n",
      "| Jane   |    91 |\n",
      "| Claire |    42 |\n"
     ]
    }
   ],
   "source": [
    "print_table(data)"
   ]
  },
  {
   "cell_type": "markdown",
   "metadata": {
    "slideshow": {
     "slide_type": "subslide"
    }
   },
   "source": [
    "The basic query looks like:\n",
    "```\n",
    "SELECT <columns>\n",
    "FROM <table>\n",
    "```"
   ]
  },
  {
   "cell_type": "markdown",
   "metadata": {
    "slideshow": {
     "slide_type": "fragment"
    }
   },
   "source": [
    "To show everything, we do:\n",
    "```\n",
    "SELECT name, age \n",
    "FROM record\n",
    "```"
   ]
  },
  {
   "cell_type": "code",
   "execution_count": 5,
   "metadata": {
    "slideshow": {
     "slide_type": "fragment"
    }
   },
   "outputs": [
    {
     "name": "stdout",
     "output_type": "stream",
     "text": [
      "| Name   |   Age |\n",
      "|--------|-------|\n",
      "| Alice  |    20 |\n",
      "| John   |    73 |\n",
      "|        |     0 |\n",
      "| Bob    |    37 |\n",
      "| Eve    |       |\n",
      "| Jane   |    91 |\n",
      "| Claire |    42 |\n"
     ]
    }
   ],
   "source": [
    "print_query(\"SELECT name, age FROM record\")"
   ]
  },
  {
   "cell_type": "markdown",
   "metadata": {
    "slideshow": {
     "slide_type": "subslide"
    }
   },
   "source": [
    "Or more conveniently, to select all columns with a wildcard:\n",
    "```\n",
    "SELECT *\n",
    "FROM record\n",
    "```"
   ]
  },
  {
   "cell_type": "code",
   "execution_count": 6,
   "metadata": {
    "slideshow": {
     "slide_type": "fragment"
    }
   },
   "outputs": [
    {
     "name": "stdout",
     "output_type": "stream",
     "text": [
      "| Name   |   Age |\n",
      "|--------|-------|\n",
      "| Alice  |    20 |\n",
      "| John   |    73 |\n",
      "|        |     0 |\n",
      "| Bob    |    37 |\n",
      "| Eve    |       |\n",
      "| Jane   |    91 |\n",
      "| Claire |    42 |\n"
     ]
    }
   ],
   "source": [
    "print_query(\"SELECT * FROM record\")"
   ]
  },
  {
   "cell_type": "markdown",
   "metadata": {
    "slideshow": {
     "slide_type": "subslide"
    }
   },
   "source": [
    "You do not have to display all columns:\n",
    "```\n",
    "SELECT name\n",
    "FROM record\n",
    "```"
   ]
  },
  {
   "cell_type": "code",
   "execution_count": 7,
   "metadata": {
    "slideshow": {
     "slide_type": "fragment"
    }
   },
   "outputs": [
    {
     "name": "stdout",
     "output_type": "stream",
     "text": [
      "| Name   |\n",
      "|--------|\n",
      "| Alice  |\n",
      "| John   |\n",
      "|        |\n",
      "| Bob    |\n",
      "| Eve    |\n",
      "| Jane   |\n",
      "| Claire |\n"
     ]
    }
   ],
   "source": [
    "print_query(\"SELECT name FROM record\")"
   ]
  },
  {
   "cell_type": "markdown",
   "metadata": {
    "slideshow": {
     "slide_type": "subslide"
    }
   },
   "source": [
    "### Filtering Rows\n",
    "\n",
    "More usefull queries contain a where clause, which filters based on a condition.\n",
    "```\n",
    "SELECT * FROM record\n",
    "WHERE <condition>\n",
    "```"
   ]
  },
  {
   "cell_type": "markdown",
   "metadata": {
    "slideshow": {
     "slide_type": "fragment"
    }
   },
   "source": [
    "For example, if we wanted everyone younger than 30 years, we do:\n",
    "```\n",
    "SELECT * FROM record\n",
    "WHERE age < 30\n",
    "```"
   ]
  },
  {
   "cell_type": "code",
   "execution_count": 8,
   "metadata": {
    "slideshow": {
     "slide_type": "fragment"
    }
   },
   "outputs": [
    {
     "name": "stdout",
     "output_type": "stream",
     "text": [
      "| Name   |   Age |\n",
      "|--------|-------|\n",
      "| Alice  |    20 |\n",
      "|        |     0 |\n"
     ]
    }
   ],
   "source": [
    "print_query(\"SELECT * FROM record WHERE age < 30\")"
   ]
  },
  {
   "cell_type": "markdown",
   "metadata": {
    "slideshow": {
     "slide_type": "fragment"
    }
   },
   "source": [
    "Note, that the `NULL` in age value is automatically evaluated as `False` and is not included."
   ]
  },
  {
   "cell_type": "markdown",
   "metadata": {
    "slideshow": {
     "slide_type": "subslide"
    }
   },
   "source": [
    "The condition can be any boolean expression, and therefore can contain `AND`, `OR`, `NOT` etc:\n",
    "\n",
    "```\n",
    "SELECT * FROM record\n",
    "WHERE (age > 30 AND age < 50) OR name == 'Alice'\n",
    "```"
   ]
  },
  {
   "cell_type": "code",
   "execution_count": 9,
   "metadata": {
    "slideshow": {
     "slide_type": "fragment"
    }
   },
   "outputs": [
    {
     "name": "stdout",
     "output_type": "stream",
     "text": [
      "| Name   |   Age |\n",
      "|--------|-------|\n",
      "| Alice  |    20 |\n",
      "| Bob    |    37 |\n",
      "| Claire |    42 |\n"
     ]
    }
   ],
   "source": [
    "print_query(\"SELECT * FROM record WHERE (age > 30 AND age < 50) OR name == 'Alice'\")"
   ]
  },
  {
   "cell_type": "markdown",
   "metadata": {
    "slideshow": {
     "slide_type": "subslide"
    }
   },
   "source": [
    "We can test if values exist (e.g. are not NULL), by `<column> IS NOT NULL`:\n",
    "```\n",
    "SELECT *\n",
    "FROM record\n",
    "WHERE name IS NOT NULL \n",
    "  AND age  IS NOT NULL\n",
    "```"
   ]
  },
  {
   "cell_type": "code",
   "execution_count": 10,
   "metadata": {
    "slideshow": {
     "slide_type": "fragment"
    }
   },
   "outputs": [
    {
     "name": "stdout",
     "output_type": "stream",
     "text": [
      "| Name   |   Age |\n",
      "|--------|-------|\n",
      "| Alice  |    20 |\n",
      "| John   |    73 |\n",
      "| Bob    |    37 |\n",
      "| Jane   |    91 |\n",
      "| Claire |    42 |\n"
     ]
    }
   ],
   "source": [
    "print_query(\"SELECT * FROM record WHERE name IS NOT NULL AND age IS NOT NULL\")"
   ]
  },
  {
   "cell_type": "markdown",
   "metadata": {
    "slideshow": {
     "slide_type": "subslide"
    }
   },
   "source": [
    "Another usefull tests for strings is `LIKE <regex>` which essentially tests if the value matches a (simple) regular expression. `%` is used to match 0 or more characters, and `.` to match exactly one. \n",
    "\n",
    "The following queries every record row, where the name contains an 'a' (case insensitive):\n",
    "\n",
    "```\n",
    "SELECT * FROM record\n",
    "WHERE name LIKE '%a%'\n",
    "```"
   ]
  },
  {
   "cell_type": "code",
   "execution_count": 11,
   "metadata": {
    "slideshow": {
     "slide_type": "fragment"
    }
   },
   "outputs": [
    {
     "name": "stdout",
     "output_type": "stream",
     "text": [
      "| Name   |   Age |\n",
      "|--------|-------|\n",
      "| Alice  |    20 |\n",
      "| Jane   |    91 |\n",
      "| Claire |    42 |\n"
     ]
    }
   ],
   "source": [
    "print_query(\"SELECT * FROM record WHERE name LIKE '%a%' \")"
   ]
  },
  {
   "cell_type": "markdown",
   "metadata": {
    "slideshow": {
     "slide_type": "subslide"
    }
   },
   "source": [
    "### Ordering Output\n",
    "We can also sort the output of our query, using the `ORDER BY` clause:\n",
    "```\n",
    "SELECT *\n",
    "FROM record\n",
    "ORDER BY age\n",
    "```"
   ]
  },
  {
   "cell_type": "code",
   "execution_count": 12,
   "metadata": {
    "slideshow": {
     "slide_type": "fragment"
    }
   },
   "outputs": [
    {
     "name": "stdout",
     "output_type": "stream",
     "text": [
      "| Name   |   Age |\n",
      "|--------|-------|\n",
      "| Eve    |       |\n",
      "|        |     0 |\n",
      "| Alice  |    20 |\n",
      "| Bob    |    37 |\n",
      "| Claire |    42 |\n",
      "| John   |    73 |\n",
      "| Jane   |    91 |\n"
     ]
    }
   ],
   "source": [
    "print_query(\"SELECT * FROM record ORDER BY age\")"
   ]
  },
  {
   "cell_type": "markdown",
   "metadata": {
    "slideshow": {
     "slide_type": "subslide"
    }
   },
   "source": [
    "And this can be specified as ascending (default) or descending (keywords `ASC` and `DESC` respectively)\n",
    "```\n",
    "SELECT *\n",
    "FROM record\n",
    "ORDER BY name DESC\n",
    "```"
   ]
  },
  {
   "cell_type": "code",
   "execution_count": 13,
   "metadata": {
    "slideshow": {
     "slide_type": "fragment"
    }
   },
   "outputs": [
    {
     "name": "stdout",
     "output_type": "stream",
     "text": [
      "| Name   |   Age |\n",
      "|--------|-------|\n",
      "| John   |    73 |\n",
      "| Jane   |    91 |\n",
      "| Eve    |       |\n",
      "| Claire |    42 |\n",
      "| Bob    |    37 |\n",
      "| Alice  |    20 |\n",
      "|        |     0 |\n"
     ]
    }
   ],
   "source": [
    "print_query(\"SELECT * FROM record ORDER BY name DESC\")"
   ]
  },
  {
   "cell_type": "markdown",
   "metadata": {
    "slideshow": {
     "slide_type": "subslide"
    }
   },
   "source": [
    "### Combining tables with JOIN\n",
    "Finally, if you are working with multiple tables (which is not the case at the moment) we can merge them together using the `JOIN` keyword!\n",
    "\n",
    "Consider another table (`colours`) with the favourite colours of _some_ people :"
   ]
  },
  {
   "cell_type": "code",
   "execution_count": 14,
   "metadata": {
    "slideshow": {
     "slide_type": "fragment"
    }
   },
   "outputs": [
    {
     "name": "stdout",
     "output_type": "stream",
     "text": [
      "| Name   | Age     |\n",
      "|--------|---------|\n",
      "| Alice  | Green   |\n",
      "| Bob    | Magenta |\n",
      "| Eve    | White   |\n",
      "| Claire | Purple  |\n"
     ]
    }
   ],
   "source": [
    "print_query(\"SELECT * FROM colours\")"
   ]
  },
  {
   "cell_type": "markdown",
   "metadata": {
    "slideshow": {
     "slide_type": "subslide"
    }
   },
   "source": [
    "We combine entries in the two tables (`<table1> JOIN <table2>`), if their names are the same (`ON <condition>`):\n",
    "\n",
    "We explicitly state that we display the name from the record table, using `record.name`.\n",
    "```\n",
    "SELECT record.name, age, colour\n",
    "FROM (record JOIN colours \n",
    "      ON record.name = colours.name)\n",
    "```"
   ]
  },
  {
   "cell_type": "code",
   "execution_count": 15,
   "metadata": {
    "slideshow": {
     "slide_type": "fragment"
    }
   },
   "outputs": [
    {
     "name": "stdout",
     "output_type": "stream",
     "text": [
      "| Name   |   Age | Colour   |\n",
      "|--------|-------|----------|\n",
      "| Alice  |    20 | Green    |\n",
      "| Bob    |    37 | Magenta  |\n",
      "| Eve    |       | White    |\n",
      "| Claire |    42 | Purple   |\n"
     ]
    }
   ],
   "source": [
    "print_query(\"SELECT record.name, age, colour FROM record JOIN colours ON record.name = colours.name\", headers=[\"Name\", \"Age\", \"Colour\"])"
   ]
  },
  {
   "cell_type": "markdown",
   "metadata": {
    "slideshow": {
     "slide_type": "subslide"
    }
   },
   "source": [
    "Notice, how names which are in `record` but not in `colours`, are not included. This is called an `INNER` join, and is the default behaviour. \n",
    "\n",
    "To include all values and still merge those which match, we do an `OUTER` join:\n",
    "\n",
    "```\n",
    "SELECT record.name, age, colour\n",
    "FROM (record LEFT OUTER JOIN colours \n",
    "      ON record.name = colours.name)\n",
    "```"
   ]
  },
  {
   "cell_type": "code",
   "execution_count": 16,
   "metadata": {
    "slideshow": {
     "slide_type": "fragment"
    }
   },
   "outputs": [
    {
     "name": "stdout",
     "output_type": "stream",
     "text": [
      "| Name   |   Age | Colour   |\n",
      "|--------|-------|----------|\n",
      "| Alice  |    20 | Green    |\n",
      "| John   |    73 |          |\n",
      "|        |     0 |          |\n",
      "| Bob    |    37 | Magenta  |\n",
      "| Eve    |       | White    |\n",
      "| Jane   |    91 |          |\n",
      "| Claire |    42 | Purple   |\n"
     ]
    }
   ],
   "source": [
    "print_query(\"SELECT record.name, age, colour FROM record LEFT OUTER JOIN colours ON record.name = colours.name\", headers=[\"Name\", \"Age\", \"Colour\"])"
   ]
  },
  {
   "cell_type": "markdown",
   "metadata": {
    "slideshow": {
     "slide_type": "subslide"
    }
   },
   "source": [
    "## Now on to ADQL"
   ]
  },
  {
   "cell_type": "markdown",
   "metadata": {
    "slideshow": {
     "slide_type": "fragment"
    }
   },
   "source": [
    "ADQL (Astronomy Data Query Language) is a separate language build on top of SQL. It offers a lot of constructs and (mathematical) functions which are usefull to astronomers!\n",
    "\n",
    "For a more comprehensive guide, see the [GAIA DR1 ADQL Cookbook](https://www.gaia.ac.uk/data/gaia-data-release-1/adql-cookbook)."
   ]
  },
  {
   "cell_type": "markdown",
   "metadata": {
    "slideshow": {
     "slide_type": "subslide"
    }
   },
   "source": [
    "### Functions\n",
    "The following functions (among others) are available when using ADQL:\n",
    "- `(A)SIN`, `(A)COS`, `(A)TAN`, (using radians)\n",
    "- `DEGREES`, `RADIANS`\n",
    "- `EXP`, `LOG`, `LOG10`, `POWER`, `SQRT`\n",
    "- `ABS`, `RAND`, `PI`, `MOD`\n",
    "- `ROUND`, `CEILING`, `FLOOR`, `TRUNCATE`"
   ]
  },
  {
   "cell_type": "markdown",
   "metadata": {
    "slideshow": {
     "slide_type": "subslide"
    }
   },
   "source": [
    "### Geometries\n",
    "It is possible to create geometries and then compare them!\n",
    "- Geometries: `BOX`, `CIRCLE`,  `POINT`, `POLYGON`\n",
    "\n",
    "The first argument for these _'Constructors'_ is the Coordinate System. So for standard equatorial coordinates, (equinox J2000.0) use `'ICRS'`:"
   ]
  },
  {
   "cell_type": "markdown",
   "metadata": {
    "slideshow": {
     "slide_type": "fragment"
    }
   },
   "source": [
    "The signature of point is `POINT(coordsys, longcoord, latcoord)` (coordinates both in __degrees__). A point on the North pole is given by:\n",
    "\n",
    "```\n",
    "POINT('ICRS', 0, 90)\n",
    "```\n",
    "\n",
    "And a circle of 10 degrees around this point is then given by:\n",
    "\n",
    "```\n",
    "CIRCLE('ICRS', 0, 90, 10)\n",
    "```"
   ]
  },
  {
   "cell_type": "markdown",
   "metadata": {
    "slideshow": {
     "slide_type": "subslide"
    }
   },
   "source": [
    "We can use these geometries in so called 'Predicate' functions: `INTERSECT` and `CONTAINS`."
   ]
  },
  {
   "cell_type": "markdown",
   "metadata": {
    "slideshow": {
     "slide_type": "subslide"
    }
   },
   "source": [
    "- `INTERSECT(geometry1, geometry2)` takes two geometries and results in `1` if they intersect, and 0 otherwise.\n",
    "\n",
    "    So from our example: \n",
    "    \n",
    "    ```INTERSECT(POINT('ICRS', 0, 90), CIRCLE('ICRS', 0, 90, 10)) = 1```\n",
    "    \n",
    "    and \n",
    "    \n",
    "    ```INTERSECT(POINT('ICRS', 0, 0),  CIRCLE('ICRS', 0, 90, 10)) = 0```"
   ]
  },
  {
   "cell_type": "markdown",
   "metadata": {
    "slideshow": {
     "slide_type": "subslide"
    }
   },
   "source": [
    "- `CONTAINS(geometry1, geometry2)` again takes two geometries, and results in `1` if geomerty 1 is __fully__ contained by geometry 2:\n",
    "\n",
    "    Again:\n",
    "    \n",
    "    ```CONTAINS(POINT('ICRS', 0, 90), CIRCLE('ICRS', 0, 90, 10)) = 1```\n",
    "    \n",
    "    ```CONTAINS(POINT('ICRS', 0, 0),  CIRCLE('ICRS', 0, 90, 10)) = 0```"
   ]
  },
  {
   "cell_type": "markdown",
   "metadata": {
    "slideshow": {
     "slide_type": "subslide"
    }
   },
   "source": [
    "### Back to queries\n",
    "The most common usage of these geometries and predicate functions, is to select all data entries in a specific region of the sky."
   ]
  },
  {
   "cell_type": "markdown",
   "metadata": {
    "slideshow": {
     "slide_type": "fragment"
    }
   },
   "source": [
    "Here we use some imaginary table `observations` which contains (among others) `ra` and `dec` coordinates of the observations:\n",
    "\n",
    "```\n",
    "SELECT * FROM observations\n",
    "WHERE CONTAINS(POINT('ICRS', ra, dec), CIRCLE('ICRS', 0, 90, 10)) = 1\n",
    "```"
   ]
  },
  {
   "cell_type": "markdown",
   "metadata": {
    "slideshow": {
     "slide_type": "fragment"
    }
   },
   "source": [
    "Or, using the `BOX` geometry:\n",
    "\n",
    "```\n",
    "SELECT * FROM observations\n",
    "WHERE CONTAINS(POINT('ICRS', ra, dec), BOX('ICRS', 0, 0, 10, 1)) = 1\n",
    "```"
   ]
  },
  {
   "cell_type": "markdown",
   "metadata": {
    "slideshow": {
     "slide_type": "fragment"
    }
   },
   "source": [
    "The signature of `BOX` is `BOX(coordsys, longcoord, latcoord, longExtent, latExtent)`. The _'coords'_ are the center of the rectangle, and the _'extents'_ give the (total) length of the sides."
   ]
  },
  {
   "cell_type": "markdown",
   "metadata": {
    "slideshow": {
     "slide_type": "subslide"
    }
   },
   "source": [
    "### Controlling Output\n",
    "ADQL offers some additional functionality for selecting the `TOP X` rows of your query:\n",
    "\n",
    "```\n",
    "SELECT TOP 100 *\n",
    "FROM observations\n",
    "```"
   ]
  },
  {
   "cell_type": "markdown",
   "metadata": {
    "slideshow": {
     "slide_type": "slide"
    }
   },
   "source": [
    "# Tap Interfaces"
   ]
  },
  {
   "cell_type": "markdown",
   "metadata": {
    "slideshow": {
     "slide_type": "fragment"
    }
   },
   "source": [
    "- Topcat [link](http://www.star.bris.ac.uk/~mbt/topcat/#docs)\n",
    "- TAPHandle [link](http://saada.unistra.fr/taphandle/#)\n",
    "- Python's: [Astroquery](https://astroquery.readthedocs.io/en/latest/), [PyVO](https://pyvo.readthedocs.io/en/latest/)"
   ]
  },
  {
   "cell_type": "markdown",
   "metadata": {
    "slideshow": {
     "slide_type": "fragment"
    }
   },
   "source": [
    "Example query to use:\n",
    "```\n",
    "SELECT * FROM observations.raw\n",
    "WHERE CONTAINS(POINT('ICRS', ra, dec), CIRCLE('ICRS', 200, 30, 20)) = 1\n",
    "```\n",
    "\n",
    "Cicle of: $ra=13h20m0s, dec=30^\\circ, radius = 20^\\circ$"
   ]
  },
  {
   "cell_type": "markdown",
   "metadata": {
    "slideshow": {
     "slide_type": "slide"
    }
   },
   "source": [
    "# Python Interface & Example Queries\n",
    "\n",
    "See other notebook TAPExamples !"
   ]
  },
  {
   "cell_type": "markdown",
   "metadata": {
    "slideshow": {
     "slide_type": "slide"
    }
   },
   "source": [
    "# Future Development\n",
    "- Automated data reduction \n",
    "- Expose reduced data as another table!\n",
    "- Small system bugs\n",
    "- Any other improvements we can think of!"
   ]
  }
 ],
 "metadata": {
  "kernelspec": {
   "display_name": "Python 3",
   "language": "python",
   "name": "python3"
  },
  "language_info": {
   "codemirror_mode": {
    "name": "ipython",
    "version": 3
   },
   "file_extension": ".py",
   "mimetype": "text/x-python",
   "name": "python",
   "nbconvert_exporter": "python",
   "pygments_lexer": "ipython3",
   "version": "3.8.5"
  }
 },
 "nbformat": 4,
 "nbformat_minor": 2
}
